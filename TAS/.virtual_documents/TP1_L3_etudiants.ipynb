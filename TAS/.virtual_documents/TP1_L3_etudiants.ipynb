


import numpy as np
import matplotlib.pyplot as plt
from scipy import signal











def fonctionTFTDporte(f, N, fe):
    """
    retourne pour une fréquence f la valeur scalaire de la 
    transformée de Fourier à temps discret (TFTD) 
    d'une porte échantillonnée sur N points à une fréquence 
    d'échaloc='upper left'ntillonnage fe.

    Parameters:
    - f (float): Fréquence pour laquelle calculer la TFTD.
    - N (int): Nombre d'échantillons du signal de porte.
    - fe (float): Fréquence d'échantillonnage du signal.

    Returns:
    -  (float): Valeur scalaire de la TFTD pour la fréquence donnée.
    """
    return (np.sin(np.pi*N*f/fe)/np.sin(np.pi*f/fe))*np.exp(-1j*(N-1)*np.pi*f/fe) if f%fe!=0 else N
    








#Paramètres du problème

N= 16
fe = 4096

# Construction du tableau des valeurs de P(f)
f=np.linspace(0,fe,1000)
y=[np.abs(fonctionTFTDporte(i,N,fe)) for i in f]
x=f/fe
plt.figure()
plt.plot(x,y,c='blue',label="Module de la TFTD de la porte")

plt.xlabel('Frequence Normalise')
plt.ylabel('|P(f)|')
plt.legend(loc='upper center')
plt.show()


# Tracé du spectre d'amplitude










# Affichage de la TFTD de la porte (reprendre l'affichage de la partie 1)
f=np.linspace(0,1,fe)
y=[np.abs(fonctionTFTDporte(i*fe,N,fe)) for i in f]

plt.figure()
plt.plot(f,y,c='blue',label="Module de la TFTD de la porte")

plt.xlabel('Frequence Normalise')
plt.ylabel('|P(f)|')


# Affichage de la TFD théorique P[k] calculée ci-dessus
theri=np.zeros(N)
theri[0]=N
k=np.arange(N)
plt.scatter(k/N,theri,c='green',label="la TFD")

# Création d'un signal de taille N rempli de 1
sign=[1 for i in range(N)]
sign=np.ones(N)
# Calcul de la FFT du signal
fft= np.fft.fft(sign)
#Affichage du résultat de fft
plt.scatter(k/N,fft,c='red',label="Module de la fft")
plt.legend(loc='upper center')
plt.show()














def fonctionTFTDcosinus(f, f0, N, fe):
    """
    retourne pour une fréquence f la valeur scalaire de la 
    transformée de Fourier à temps discret (TFTD) 
    d'un signal sinusoidal sur N points à une fréquence d'échantillonnage fe.

    Parameters:
    - f (float): Fréquence pour laquelle calculer la TFTD.
    - f0 (float) : Fréquence du signal cosinus
    - N (int): Nombre d'échantillons du signal de porte.
    - fe (float): Fréquence d'échantillonnage du signal.

    Returns:
    -  (float): Valeur scalaire de la TFTD pour la fréquence donnée.
    """

    





#Paramètres du problème : facile entier, difficile non-entier
k = 1
# nombre de périodes observées
f0 = k*fe/N













# Paramètres du problème : facile entier, difficile non-entier
k = 1
# nombre de périodes observées
f0 = k*fe/N







# Affichage 













