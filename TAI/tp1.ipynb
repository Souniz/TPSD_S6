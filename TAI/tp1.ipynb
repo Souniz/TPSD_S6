{
 "cells": [
  {
   "cell_type": "code",
   "execution_count": 180,
   "id": "ec09b91a-3b24-4439-81de-7b013db8f2ad",
   "metadata": {},
   "outputs": [],
   "source": [
    "import pandas as pd\n",
    "import numpy as np\n",
    "from pathlib import Path\n",
    "import exifread"
   ]
  },
  {
   "cell_type": "code",
   "execution_count": 181,
   "id": "2c2280d5-2927-405a-b7de-a9165987e87e",
   "metadata": {},
   "outputs": [],
   "source": [
    "df=pd.DataFrame(columns=['image','f','k','g','pdc_calcule','pdc_observe','errer'])\n",
    "pdc_estime={'PICT3149.JPG':0.0035,'PICT3150.JPG':0.13,'PICT3151.JPG':0.006,'PICT3152.JPG':0.0065,'PICT3153.JPG':0.007,'PICT3154.JPG':0.004}"
   ]
  },
  {
   "cell_type": "code",
   "execution_count": 182,
   "id": "666e980b",
   "metadata": {},
   "outputs": [],
   "source": [
    "def calcul_pdc(f,k,g):\n",
    "    r=(1/1.8)*(2.54/100)\n",
    "    return (4*f**2*r*k*g*(g-f))/(f**4-4*r**2*k**2*(g-f)**2)"
   ]
  },
  {
   "cell_type": "code",
   "execution_count": 183,
   "id": "2f21b3b6-166f-44ad-a1b6-10b60c2b2eb9",
   "metadata": {},
   "outputs": [],
   "source": [
    "p=Path(\"TP1_Donnee/PdC\")\n",
    "count=0\n",
    "for s in p.glob('*.JPG'):\n",
    "    with open(str(s),'rb') as f:\n",
    "         a=exifread.process_file(f)\n",
    "    focal=str(a['EXIF FocalLength']).split('/')\n",
    "    focal=int(focal[0])/int(focal[1])\n",
    "    focal=focal/1000\n",
    "    if str(a['EXIF FNumber']).find('/')!=-1:\n",
    "        k=str(a['EXIF FNumber']).split('/')\n",
    "        k=int(k[0])/int(k[1])\n",
    "        k=int(k)*focal\n",
    "    else:\n",
    "        k=str(a['EXIF FNumber'])\n",
    "        k=int(k)*focal\n",
    "    g=int(str(a['EXIF FocalLengthIn35mmFilm']))/1000\n",
    "    pdc=calcul_pdc(focal,k,g)\n",
    "    pdc_es=pdc_estime.get(s.name)\n",
    "    errer=np.abs(pdc-pdc_es)\n",
    "    df.loc[count]=[s.name,focal,k,g,pdc,pdc_es,errer]\n",
    "    count=count+1"
   ]
  },
  {
   "cell_type": "code",
   "execution_count": 184,
   "id": "928072e9",
   "metadata": {},
   "outputs": [
    {
     "data": {
      "text/html": [
       "<div>\n",
       "<style scoped>\n",
       "    .dataframe tbody tr th:only-of-type {\n",
       "        vertical-align: middle;\n",
       "    }\n",
       "\n",
       "    .dataframe tbody tr th {\n",
       "        vertical-align: top;\n",
       "    }\n",
       "\n",
       "    .dataframe thead th {\n",
       "        text-align: right;\n",
       "    }\n",
       "</style>\n",
       "<table border=\"1\" class=\"dataframe\">\n",
       "  <thead>\n",
       "    <tr style=\"text-align: right;\">\n",
       "      <th></th>\n",
       "      <th>image</th>\n",
       "      <th>f</th>\n",
       "      <th>k</th>\n",
       "      <th>g</th>\n",
       "      <th>pdc_calcule</th>\n",
       "      <th>pdc_observe</th>\n",
       "      <th>errer</th>\n",
       "    </tr>\n",
       "  </thead>\n",
       "  <tbody>\n",
       "    <tr>\n",
       "      <th>0</th>\n",
       "      <td>PICT3149.JPG</td>\n",
       "      <td>0.007203</td>\n",
       "      <td>0.021609</td>\n",
       "      <td>0.028</td>\n",
       "      <td>0.014559</td>\n",
       "      <td>0.0035</td>\n",
       "      <td>0.011059</td>\n",
       "    </tr>\n",
       "    <tr>\n",
       "      <th>1</th>\n",
       "      <td>PICT3150.JPG</td>\n",
       "      <td>0.007203</td>\n",
       "      <td>0.014406</td>\n",
       "      <td>0.028</td>\n",
       "      <td>0.009375</td>\n",
       "      <td>0.1300</td>\n",
       "      <td>0.120625</td>\n",
       "    </tr>\n",
       "    <tr>\n",
       "      <th>2</th>\n",
       "      <td>PICT3151.JPG</td>\n",
       "      <td>0.007203</td>\n",
       "      <td>0.079234</td>\n",
       "      <td>0.028</td>\n",
       "      <td>0.255285</td>\n",
       "      <td>0.0060</td>\n",
       "      <td>0.249285</td>\n",
       "    </tr>\n",
       "    <tr>\n",
       "      <th>3</th>\n",
       "      <td>PICT3152.JPG</td>\n",
       "      <td>0.007203</td>\n",
       "      <td>0.079234</td>\n",
       "      <td>0.028</td>\n",
       "      <td>0.255285</td>\n",
       "      <td>0.0065</td>\n",
       "      <td>0.248785</td>\n",
       "    </tr>\n",
       "    <tr>\n",
       "      <th>4</th>\n",
       "      <td>PICT3153.JPG</td>\n",
       "      <td>0.007203</td>\n",
       "      <td>0.036016</td>\n",
       "      <td>0.028</td>\n",
       "      <td>0.027356</td>\n",
       "      <td>0.0070</td>\n",
       "      <td>0.020356</td>\n",
       "    </tr>\n",
       "    <tr>\n",
       "      <th>5</th>\n",
       "      <td>PICT3154.JPG</td>\n",
       "      <td>0.007203</td>\n",
       "      <td>0.014406</td>\n",
       "      <td>0.028</td>\n",
       "      <td>0.009375</td>\n",
       "      <td>0.0040</td>\n",
       "      <td>0.005375</td>\n",
       "    </tr>\n",
       "  </tbody>\n",
       "</table>\n",
       "</div>"
      ],
      "text/plain": [
       "          image         f         k      g  pdc_calcule  pdc_observe     errer\n",
       "0  PICT3149.JPG  0.007203  0.021609  0.028     0.014559       0.0035  0.011059\n",
       "1  PICT3150.JPG  0.007203  0.014406  0.028     0.009375       0.1300  0.120625\n",
       "2  PICT3151.JPG  0.007203  0.079234  0.028     0.255285       0.0060  0.249285\n",
       "3  PICT3152.JPG  0.007203  0.079234  0.028     0.255285       0.0065  0.248785\n",
       "4  PICT3153.JPG  0.007203  0.036016  0.028     0.027356       0.0070  0.020356\n",
       "5  PICT3154.JPG  0.007203  0.014406  0.028     0.009375       0.0040  0.005375"
      ]
     },
     "execution_count": 184,
     "metadata": {},
     "output_type": "execute_result"
    }
   ],
   "source": [
    "df"
   ]
  }
 ],
 "metadata": {
  "kernelspec": {
   "display_name": "Python 3 (ipykernel)",
   "language": "python",
   "name": "python3"
  },
  "language_info": {
   "codemirror_mode": {
    "name": "ipython",
    "version": 3
   },
   "file_extension": ".py",
   "mimetype": "text/x-python",
   "name": "python",
   "nbconvert_exporter": "python",
   "pygments_lexer": "ipython3",
   "version": "3.9.13"
  }
 },
 "nbformat": 4,
 "nbformat_minor": 5
}
