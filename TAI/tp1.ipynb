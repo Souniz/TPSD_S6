{
 "cells": [
  {
   "cell_type": "code",
   "execution_count": null,
   "id": "ec09b91a-3b24-4439-81de-7b013db8f2ad",
   "metadata": {},
   "outputs": [],
   "source": [
    "import pandas as pd\n",
    "import numpy as np\n",
    "from pathlib import Path\n",
    "import exifread\n",
    "import matplotlib.pyplot as plt"
   ]
  },
  {
   "cell_type": "code",
   "execution_count": 76,
   "id": "2c2280d5-2927-405a-b7de-a9165987e87e",
   "metadata": {},
   "outputs": [],
   "source": [
    "df=pd.DataFrame(columns=['image','f','k','g','pdc_calcule','pdc_observe','errer'])\n",
    "pdc_estime={'PICT3149.JPG':0.0035,'PICT3150.JPG':0.13,'PICT3151.JPG':0.006,'PICT3152.JPG':0.0065,'PICT3153.JPG':0.007,'PICT3154.JPG':0.004}"
   ]
  },
  {
   "cell_type": "code",
   "execution_count": 77,
   "id": "666e980b",
   "metadata": {},
   "outputs": [],
   "source": [
    "def calcul_pdc(f,k,g):\n",
    "    r=(1/1.8)*(2.54/100)\n",
    "    return (4*f**2*r*k*g*(g-f))/(f**4-4*r**2*k**2*(g-f)**2)"
   ]
  },
  {
   "cell_type": "code",
   "execution_count": 78,
   "id": "2f21b3b6-166f-44ad-a1b6-10b60c2b2eb9",
   "metadata": {},
   "outputs": [],
   "source": [
    "p=Path(\"TP1_Donnee/PdC\")\n",
    "count=0\n",
    "for s in p.glob('*.JPG'):\n",
    "    with open(str(s),'rb') as f:\n",
    "         a=exifread.process_file(f)\n",
    "    focal=str(a['EXIF FocalLength']).split('/')\n",
    "    focal=int(focal[0])/int(focal[1])\n",
    "    focal=focal/1000\n",
    "    if str(a['EXIF FNumber']).find('/')!=-1:\n",
    "        k=str(a['EXIF FNumber']).split('/')\n",
    "        k=int(k[0])/int(k[1])\n",
    "        k=int(k)*focal\n",
    "    else:\n",
    "        k=str(a['EXIF FNumber'])\n",
    "        k=int(k)*focal\n",
    "    g=int(str(a['EXIF FocalLengthIn35mmFilm']))/1000\n",
    "    pdc=calcul_pdc(focal,k,g)\n",
    "    pdc_es=pdc_estime.get(s.name)\n",
    "    errer=np.abs(pdc-pdc_es)\n",
    "    df.loc[count]=[s.name,focal,k,g,pdc,pdc_es,errer]\n",
    "    count=count+1"
   ]
  },
  {
   "cell_type": "code",
   "execution_count": 17,
   "id": "928072e9",
   "metadata": {},
   "outputs": [
    {
     "data": {
      "text/html": [
       "<div>\n",
       "<style scoped>\n",
       "    .dataframe tbody tr th:only-of-type {\n",
       "        vertical-align: middle;\n",
       "    }\n",
       "\n",
       "    .dataframe tbody tr th {\n",
       "        vertical-align: top;\n",
       "    }\n",
       "\n",
       "    .dataframe thead th {\n",
       "        text-align: right;\n",
       "    }\n",
       "</style>\n",
       "<table border=\"1\" class=\"dataframe\">\n",
       "  <thead>\n",
       "    <tr style=\"text-align: right;\">\n",
       "      <th></th>\n",
       "      <th>image</th>\n",
       "      <th>f</th>\n",
       "      <th>k</th>\n",
       "      <th>g</th>\n",
       "      <th>pdc_calcule</th>\n",
       "      <th>pdc_observe</th>\n",
       "      <th>errer</th>\n",
       "    </tr>\n",
       "  </thead>\n",
       "  <tbody>\n",
       "    <tr>\n",
       "      <th>0</th>\n",
       "      <td>PICT3149.JPG</td>\n",
       "      <td>0.007203</td>\n",
       "      <td>0.021609</td>\n",
       "      <td>0.028</td>\n",
       "      <td>0.014559</td>\n",
       "      <td>0.0035</td>\n",
       "      <td>0.011059</td>\n",
       "    </tr>\n",
       "    <tr>\n",
       "      <th>1</th>\n",
       "      <td>PICT3150.JPG</td>\n",
       "      <td>0.007203</td>\n",
       "      <td>0.014406</td>\n",
       "      <td>0.028</td>\n",
       "      <td>0.009375</td>\n",
       "      <td>0.1300</td>\n",
       "      <td>0.120625</td>\n",
       "    </tr>\n",
       "    <tr>\n",
       "      <th>2</th>\n",
       "      <td>PICT3151.JPG</td>\n",
       "      <td>0.007203</td>\n",
       "      <td>0.079234</td>\n",
       "      <td>0.028</td>\n",
       "      <td>0.255285</td>\n",
       "      <td>0.0060</td>\n",
       "      <td>0.249285</td>\n",
       "    </tr>\n",
       "    <tr>\n",
       "      <th>3</th>\n",
       "      <td>PICT3152.JPG</td>\n",
       "      <td>0.007203</td>\n",
       "      <td>0.079234</td>\n",
       "      <td>0.028</td>\n",
       "      <td>0.255285</td>\n",
       "      <td>0.0065</td>\n",
       "      <td>0.248785</td>\n",
       "    </tr>\n",
       "    <tr>\n",
       "      <th>4</th>\n",
       "      <td>PICT3153.JPG</td>\n",
       "      <td>0.007203</td>\n",
       "      <td>0.036016</td>\n",
       "      <td>0.028</td>\n",
       "      <td>0.027356</td>\n",
       "      <td>0.0070</td>\n",
       "      <td>0.020356</td>\n",
       "    </tr>\n",
       "    <tr>\n",
       "      <th>5</th>\n",
       "      <td>PICT3154.JPG</td>\n",
       "      <td>0.007203</td>\n",
       "      <td>0.014406</td>\n",
       "      <td>0.028</td>\n",
       "      <td>0.009375</td>\n",
       "      <td>0.0040</td>\n",
       "      <td>0.005375</td>\n",
       "    </tr>\n",
       "  </tbody>\n",
       "</table>\n",
       "</div>"
      ],
      "text/plain": [
       "          image         f         k      g  pdc_calcule  pdc_observe     errer\n",
       "0  PICT3149.JPG  0.007203  0.021609  0.028     0.014559       0.0035  0.011059\n",
       "1  PICT3150.JPG  0.007203  0.014406  0.028     0.009375       0.1300  0.120625\n",
       "2  PICT3151.JPG  0.007203  0.079234  0.028     0.255285       0.0060  0.249285\n",
       "3  PICT3152.JPG  0.007203  0.079234  0.028     0.255285       0.0065  0.248785\n",
       "4  PICT3153.JPG  0.007203  0.036016  0.028     0.027356       0.0070  0.020356\n",
       "5  PICT3154.JPG  0.007203  0.014406  0.028     0.009375       0.0040  0.005375"
      ]
     },
     "execution_count": 17,
     "metadata": {},
     "output_type": "execute_result"
    }
   ],
   "source": [
    "df"
   ]
  },
  {
   "cell_type": "markdown",
   "id": "5c7ff8d9-a268-4d2d-9197-6cd5b43db37b",
   "metadata": {},
   "source": [
    "## Resolution"
   ]
  },
  {
   "cell_type": "code",
   "execution_count": 67,
   "id": "668f4aae-1491-4d01-afaf-05cbc4f3f938",
   "metadata": {},
   "outputs": [
    {
     "data": {
      "text/plain": [
       "0.00020546806649168853"
      ]
     },
     "execution_count": 67,
     "metadata": {},
     "output_type": "execute_result"
    }
   ],
   "source": [
    "a=7.2/5.6\n",
    "b=(0.55*1.22)/a\n",
    "b=b*10**-3\n",
    "b="
   ]
  },
  {
   "cell_type": "code",
   "execution_count": 71,
   "id": "da86293b-65bd-4174-8de4-711fddfcd574",
   "metadata": {},
   "outputs": [
    {
     "data": {
      "text/plain": [
       "7.37944664916885e-05"
      ]
     },
     "execution_count": 71,
     "metadata": {},
     "output_type": "execute_result"
    }
   ],
   "source": [
    "s=(72*72)*2.54*10**-2\n",
    "s=s*10**-6\n",
    "b-s"
   ]
  },
  {
   "cell_type": "code",
   "execution_count": 41,
   "id": "72ce3bbb-3361-4de7-a969-4b82b9d2dd91",
   "metadata": {},
   "outputs": [
    {
     "name": "stdout",
     "output_type": "stream",
     "text": [
      "Statistique du test: 0.7376649975776672\n",
      "p-value: 0.00596092501655221\n",
      "Le brit n'est pas gaussien (on rejette l'hypothèse nulle)\n"
     ]
    }
   ],
   "source": [
    "stat, p = shapiro(offset)\n",
    "print(\"Statistique du test:\", stat)\n",
    "print(\"p-value:\", p)\n",
    "alpha = 0.05\n",
    "if p > alpha:\n",
    "    print(\"Le brit est gaussien (on ne rejette pas l'hypothèse nulle)\")\n",
    "else:\n",
    "    print(\"Le brit n'est pas gaussien (on rejette l'hypothèse nulle)\") "
   ]
  },
  {
   "cell_type": "code",
   "execution_count": 45,
   "id": "a6b694ee-6699-4f42-8b10-f80f372af4bf",
   "metadata": {},
   "outputs": [],
   "source": [
    "from statsmodels.tsa.stattools import adfuller"
   ]
  },
  {
   "cell_type": "code",
   "execution_count": 49,
   "id": "1e376b85-669e-465c-adde-701867998725",
   "metadata": {},
   "outputs": [
    {
     "name": "stdout",
     "output_type": "stream",
     "text": [
      "Statistique du test: -2.56789539515431\n",
      "p-value: 0.09981582061611283\n",
      "Valeurs critiques: {'1%': -6.045114, '5%': -3.9292800000000003, '10%': -2.98681}\n",
      "La série ne semble pas être stationnaire (on ne rejette pas)\n"
     ]
    }
   ],
   "source": [
    "result = adfuller(offset)\n",
    "\n",
    "# Affichage des résultats\n",
    "print(\"Statistique du test:\", result[0])\n",
    "print(\"p-value:\", result[1])\n",
    "print(\"Valeurs critiques:\", result[4])\n",
    "\n",
    "# Interprétation des résultats\n",
    "alpha = 0.05\n",
    "if result[1] < alpha:\n",
    "    print(\"La série semble être stationnaire (on rejette l'hypothèse nulle)\")\n",
    "else:\n",
    "    print(\"La série ne semble pas être stationnaire (on ne rejette pas)\")"
   ]
  }
 ],
 "metadata": {
  "kernelspec": {
   "display_name": "Python 3 (ipykernel)",
   "language": "python",
   "name": "python3"
  },
  "language_info": {
   "codemirror_mode": {
    "name": "ipython",
    "version": 3
   },
   "file_extension": ".py",
   "mimetype": "text/x-python",
   "name": "python",
   "nbconvert_exporter": "python",
   "pygments_lexer": "ipython3",
   "version": "3.9.13"
  }
 },
 "nbformat": 4,
 "nbformat_minor": 5
}
