{
 "cells": [
  {
   "cell_type": "code",
   "execution_count": 18,
   "id": "9b1d2954-3d60-4c48-9a93-262a39452093",
   "metadata": {},
   "outputs": [
    {
     "name": "stdout",
     "output_type": "stream",
     "text": [
      "toto,toto,toto,toto,toto."
     ]
    }
   ],
   "source": [
    "for i in range(5): print('toto',end=',') if i!=4  else print('toto',end='.') "
   ]
  },
  {
   "cell_type": "code",
   "execution_count": 12,
   "id": "350bc725-b7ed-45c9-94bc-156db1337cff",
   "metadata": {},
   "outputs": [
    {
     "name": "stdout",
     "output_type": "stream",
     "text": [
      "toto.toto.toto.toto.toto,"
     ]
    }
   ],
   "source": [
    "for i in range(5):\n",
    "    if i==4:\n",
    "        print('toto',end=',')\n",
    "    else:\n",
    "        print('toto',end='.')"
   ]
  }
 ],
 "metadata": {
  "kernelspec": {
   "display_name": "Python 3 (ipykernel)",
   "language": "python",
   "name": "python3"
  },
  "language_info": {
   "codemirror_mode": {
    "name": "ipython",
    "version": 3
   },
   "file_extension": ".py",
   "mimetype": "text/x-python",
   "name": "python",
   "nbconvert_exporter": "python",
   "pygments_lexer": "ipython3",
   "version": "3.9.13"
  }
 },
 "nbformat": 4,
 "nbformat_minor": 5
}
