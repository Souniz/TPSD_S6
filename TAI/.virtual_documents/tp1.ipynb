import pandas as pd
import numpy as np
from pathlib import Path
import exifread


df=pd.DataFrame(columns=['image','f','k','g','pdc_calcule','pdc_observe','errer'])
pdc_estime={'PICT3149.JPG':0.0035,'PICT3150.JPG':0.13,'PICT3151.JPG':0.006,'PICT3152.JPG':0.0065,'PICT3153.JPG':0.007,'PICT3154.JPG':0.004}


def calcul_pdc(f,k,g):
    r=(1/1.8)*(2.54/100)
    return (4*f**2*r*k*g*(g-f))/(f**4-4*r**2*k**2*(g-f)**2)


p=Path("TP1_Donnee/PdC")
count=0
for s in p.glob('*.JPG'):
    with open(str(s),'rb') as f:
         a=exifread.process_file(f)
    focal=str(a['EXIF FocalLength']).split('/')
    focal=int(focal[0])/int(focal[1])
    focal=focal/1000
    if str(a['EXIF FNumber']).find('/')!=-1:
        k=str(a['EXIF FNumber']).split('/')
        k=int(k[0])/int(k[1])
        k=int(k)*focal
    else:
        k=str(a['EXIF FNumber'])
        k=int(k)*focal
    g=int(str(a['EXIF FocalLengthIn35mmFilm']))/1000
    pdc=calcul_pdc(focal,k,g)
    pdc_es=pdc_estime.get(s.name)
    errer=np.abs(pdc-pdc_es)
    df.loc[count]=[s.name,focal,k,g,pdc,pdc_es,errer]
    count=count+1


df
