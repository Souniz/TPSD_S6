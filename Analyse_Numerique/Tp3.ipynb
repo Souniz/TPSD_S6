{
 "cells": [
  {
   "cell_type": "markdown",
   "id": "89c8d62a-877d-4f4e-bc2b-e4d6fdc2f877",
   "metadata": {},
   "source": [
    "Implantez une fonction recevant une liste de couples (xi,yi) ainsi qu'une liste d'abscisses αi et qui renvoie la liste des valeurs P(αi), P étant le polynôme d'interpolation construit sur les points (xi,yi)\n",
    ".\n",
    "Implantez cette même fonction par le biais de la méthode barycentrique et comparez les deux méthodes en termes de vitesses d'exécution avec des listes αi\n",
    "conséquentes.\n",
    "Implantez le calcul de P(α)\n",
    "par l'algorithme de Neville-Atiken. Comparez sur quelques exemples la vitesse de convergence jusqu'à une certaine précision dans les cas suivants :\n",
    "\n",
    "    Les (xi,yi)\n",
    "\n",
    "sont intégrés au calcul dans un ordre aléatoire (éventuellement celui fourni par l'utilisateur)\n",
    "Les (xi,yi)\n",
    "sont intégrés au calcul dans l'ordre de la distance décroissante entre xi et α\n",
    ".\n",
    "Les (xi,yi)\n",
    "sont intégrés au calcul dans l'ordre de la distance croissante entre xi et α."
   ]
  },
  {
   "cell_type": "code",
   "execution_count": 1,
   "id": "384e6237-5d03-4371-af46-d6e5c4db3afc",
   "metadata": {},
   "outputs": [],
   "source": [
    "import numpy as np\n",
    "import matplotlib.pyplot as plt"
   ]
  },
  {
   "cell_type": "code",
   "execution_count": 101,
   "id": "048bf955-913c-47fe-8c3c-5851fe6520c1",
   "metadata": {},
   "outputs": [],
   "source": [
    "def interple(points,absci):\n",
    "     x=np.array([i[0] for i in points])\n",
    "     y=np.array([i[1] for i in points])\n",
    "     L_i=np.array([[np.prod([(p-j[0])/(i[0]-j[0]) for k,j in enumerate(points) if j[0]!=i[0]]) for k,i in enumerate(points)] for p in absci ])\n",
    "     return (L_i*y).sum(axis=1)"
   ]
  },
  {
   "cell_type": "code",
   "execution_count": 112,
   "id": "f16043a2-9cc4-4a92-ba77-e3bb11ea3673",
   "metadata": {},
   "outputs": [
    {
     "data": {
      "text/plain": [
       "array([-0.25,  6.  , 12.  ])"
      ]
     },
     "execution_count": 112,
     "metadata": {},
     "output_type": "execute_result"
    }
   ],
   "source": [
    "interple([(-1,0),(0,0),(1,2)],[-0.5,2,3])"
   ]
  },
  {
   "cell_type": "code",
   "execution_count": 104,
   "id": "dcd94e00-36f0-424b-b28b-63ece2bfa12d",
   "metadata": {},
   "outputs": [
    {
     "data": {
      "image/png": "[encoded data removed]",
      "text/plain": [
       "<Figure size 640x480 with 1 Axes>"
      ]
     },
     "metadata": {},
     "output_type": "display_data"
    }
   ],
   "source": [
    "x=np.linspace(-2*np.pi,2*np.pi,100)\n",
    "plt.Figure(figsize=(12,8))\n",
    "plt.plot(x,np.cos(x))\n",
    "x=np.random.rand(4)*2*np.pi\n",
    "y=interple([(np.pi,-1),(0,1),(np.pi/4,np.sqrt(2)/2),(np.pi/3,0.5)],x)\n",
    "plt.scatter(x,y,color='red')\n",
    "plt.show()"
   ]
  },
  {
   "cell_type": "code",
   "execution_count": 109,
   "id": "48ebb532-dfc5-4265-8603-bc0984f525ee",
   "metadata": {},
   "outputs": [],
   "source": [
    "def barycentre(points,absci):\n",
    "      res=[]\n",
    "      A_i=[np.prod([1/(i[0]-j[0]) for k,j in enumerate(points) if i[0]!=j[0]]) for r,i in enumerate(points) ]\n",
    "      for p in absci:\n",
    "         res.append(sum([j[1]*A_i[i]/(p-j[0]) for i,j in enumerate(points)])/sum([A_i[i]/(p-j[0]) for i,j in  enumerate(points)]))  \n",
    "      return res"
   ]
  },
  {
   "cell_type": "code",
   "execution_count": 113,
   "id": "1bc4dc05-981a-4596-859b-abcd1778c68b",
   "metadata": {},
   "outputs": [
    {
     "data": {
      "text/plain": [
       "[-0.25, 6.000000000000002, 11.999999999999995]"
      ]
     },
     "execution_count": 113,
     "metadata": {},
     "output_type": "execute_result"
    }
   ],
   "source": [
    "barycentre([(-1,0),(0,0),(1,2)],[-0.5,2,3])"
   ]
  },
  {
   "cell_type": "code",
   "execution_count": 114,
   "id": "7ea11c4a-ec81-42fc-990c-033e069c1536",
   "metadata": {},
   "outputs": [],
   "source": [
    "ai=np.arange(1.5,10000,0.1)"
   ]
  },
  {
   "cell_type": "code",
   "execution_count": 115,
   "id": "f98f4ec2-b706-4985-b167-60f8c91502c5",
   "metadata": {},
   "outputs": [
    {
     "name": "stdout",
     "output_type": "stream",
     "text": [
      "--- 4.059436798095703 seconds ---\n"
     ]
    }
   ],
   "source": [
    "import time\n",
    "start_time = time.time()\n",
    "## ligne de code pour réaliser la rotation avec l'interpolation choisie\n",
    "interple([(-1,0),(0,0),(1,2)],ai)\n",
    "print(\"--- %s seconds ---\" % (time.time() - start_time))"
   ]
  },
  {
   "cell_type": "code",
   "execution_count": 116,
   "id": "d1701d41-ca59-436a-87cc-ce7a122952da",
   "metadata": {},
   "outputs": [
    {
     "name": "stdout",
     "output_type": "stream",
     "text": [
      "--- 0.6982700824737549 seconds ---\n"
     ]
    }
   ],
   "source": [
    "import time\n",
    "start_time = time.time()\n",
    "## ligne de code pour réaliser la rotation avec l'interpolation choisie\n",
    "s2=barycentre([(-1,0),(0,0),(1,2)],ai)\n",
    "print(\"--- %s seconds ---\" % (time.time() - start_time))"
   ]
  },
  {
   "cell_type": "markdown",
   "id": "08235381-0073-4cc7-802c-dedecaedfc31",
   "metadata": {},
   "source": [
    "# La methode barycentrique est plus rapide"
   ]
  },
  {
   "cell_type": "code",
   "execution_count": null,
   "id": "1e2e4a53-6002-40e7-ba48-6d892bf64421",
   "metadata": {},
   "outputs": [],
   "source": [
    "def methode_Aiken(points abscisse):\n",
    "    pass"
   ]
  }
 ],
 "metadata": {
  "kernelspec": {
   "display_name": "Python 3 (ipykernel)",
   "language": "python",
   "name": "python3"
  },
  "language_info": {
   "codemirror_mode": {
    "name": "ipython",
    "version": 3
   },
   "file_extension": ".py",
   "mimetype": "text/x-python",
   "name": "python",
   "nbconvert_exporter": "python",
   "pygments_lexer": "ipython3",
   "version": "3.9.13"
  }
 },
 "nbformat": 4,
 "nbformat_minor": 5
}
