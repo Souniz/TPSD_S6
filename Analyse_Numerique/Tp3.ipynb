{
 "cells": [
  {
   "cell_type": "markdown",
   "id": "89c8d62a-877d-4f4e-bc2b-e4d6fdc2f877",
   "metadata": {},
   "source": [
    "Implantez une fonction recevant une liste de couples (xi,yi) ainsi qu'une liste d'abscisses αi et qui renvoie la liste des valeurs P(αi), P étant le polynôme d'interpolation construit sur les points (xi,yi)\n",
    ".\n",
    "Implantez cette même fonction par le biais de la méthode barycentrique et comparez les deux méthodes en termes de vitesses d'exécution avec des listes αi\n",
    "conséquentes.\n",
    "Implantez le calcul de P(α)\n",
    "par l'algorithme de Neville-Atiken. Comparez sur quelques exemples la vitesse de convergence jusqu'à une certaine précision dans les cas suivants :\n",
    "\n",
    "    Les (xi,yi)\n",
    "\n",
    "sont intégrés au calcul dans un ordre aléatoire (éventuellement celui fourni par l'utilisateur)\n",
    "Les (xi,yi)\n",
    "sont intégrés au calcul dans l'ordre de la distance décroissante entre xi et α\n",
    ".\n",
    "Les (xi,yi)\n",
    "sont intégrés au calcul dans l'ordre de la distance croissante entre xi et α."
   ]
  },
  {
   "cell_type": "code",
   "execution_count": 110,
   "id": "384e6237-5d03-4371-af46-d6e5c4db3afc",
   "metadata": {},
   "outputs": [],
   "source": [
    "import numpy as np\n",
    "import matplotlib.pyplot as plt\n",
    "import time"
   ]
  },
  {
   "cell_type": "code",
   "execution_count": 87,
   "id": "048bf955-913c-47fe-8c3c-5851fe6520c1",
   "metadata": {},
   "outputs": [],
   "source": [
    "def interple(points,absci):\n",
    "    \"\"\"\n",
    "       Interpoler une une liste d'abscisse\n",
    "    Args:\n",
    "        points (list): liste des points pour l'interpolation\n",
    "        absci (list): liste d'abscise a calculer par interpolation des points\n",
    "\n",
    "    Returns:\n",
    "        la valeur des P(aplha)\n",
    "    \"\"\"\n",
    "    x=np.array([i[0] for i in points])\n",
    "    y=np.array([i[1] for i in points])\n",
    "    L_i=np.array([[np.prod([(p-j[0])/(i[0]-j[0]) for k,j in enumerate(points) if j[0]!=i[0]]) for k,i in enumerate(points)] for p in absci ])\n",
    "    return (L_i*y).sum(axis=1)"
   ]
  },
  {
   "cell_type": "code",
   "execution_count": 88,
   "id": "f16043a2-9cc4-4a92-ba77-e3bb11ea3673",
   "metadata": {},
   "outputs": [
    {
     "data": {
      "text/plain": [
       "array([-0.25,  6.  , 12.  ])"
      ]
     },
     "execution_count": 88,
     "metadata": {},
     "output_type": "execute_result"
    }
   ],
   "source": [
    "interple([(-1,0),(0,0),(1,2)],[-0.5,2,3])"
   ]
  },
  {
   "cell_type": "code",
   "execution_count": 4,
   "id": "dcd94e00-36f0-424b-b28b-63ece2bfa12d",
   "metadata": {},
   "outputs": [
    {
     "data": {
      "image/png": "[encoded data removed]",
      "text/plain": [
       "<Figure size 640x480 with 1 Axes>"
      ]
     },
     "metadata": {},
     "output_type": "display_data"
    }
   ],
   "source": [
    "x=np.linspace(-2*np.pi,2*np.pi,100)\n",
    "plt.Figure(figsize=(12,8))\n",
    "plt.plot(x,np.cos(x))\n",
    "x=np.random.rand(4)*2*np.pi\n",
    "y=interple([(np.pi,-1),(0,1),(np.pi/4,np.sqrt(2)/2),(np.pi/3,0.5)],x)\n",
    "plt.scatter(x,y,color='red')\n",
    "plt.show()"
   ]
  },
  {
   "cell_type": "code",
   "execution_count": 108,
   "id": "7ea11c4a-ec81-42fc-990c-033e069c1536",
   "metadata": {},
   "outputs": [],
   "source": [
    "ai=np.arange(1.5,100,0.1)"
   ]
  },
  {
   "cell_type": "code",
   "execution_count": 85,
   "id": "4ee91e44-517c-4ed6-aadd-a8e28ca248ec",
   "metadata": {},
   "outputs": [],
   "source": [
    "def barycentre(points,absci):\n",
    "    \"\"\"\n",
    "       Calculer les P(aplha) d'une liste de points\n",
    "    Args:\n",
    "        points (list): liste des points pour interpoler\n",
    "        absci (list): une liste d'abscise a calculer(les apha) \n",
    "\n",
    "    Returns:\n",
    "        la valeur des P(aplha)\n",
    "    \"\"\"\n",
    "    res=[]\n",
    "    A_i=[np.prod([1/(i[0]-j[0]) for k,j in enumerate(points) if i[0]!=j[0]]) for r,i in enumerate(points) ]\n",
    "    for p in absci:\n",
    "         res.append(sum([j[1]*A_i[i]/(p-j[0]) for i,j in enumerate(points)])/sum([A_i[i]/(p-j[0]) for i,j in  enumerate(points)]))  \n",
    "    return res"
   ]
  },
  {
   "cell_type": "code",
   "execution_count": 84,
   "id": "f98f4ec2-b706-4985-b167-60f8c91502c5",
   "metadata": {},
   "outputs": [
    {
     "data": {
      "text/plain": [
       "[-0.25, 6.000000000000002, 11.999999999999995]"
      ]
     },
     "execution_count": 84,
     "metadata": {},
     "output_type": "execute_result"
    }
   ],
   "source": [
    "barycentre([(-1,0),(0,0),(1,2)],[-0.5,2,3])"
   ]
  },
  {
   "cell_type": "code",
   "execution_count": 8,
   "id": "104a9b85",
   "metadata": {},
   "outputs": [
    {
     "name": "stdout",
     "output_type": "stream",
     "text": [
      "163 µs ± 12.7 µs per loop (mean ± std. dev. of 7 runs, 10000 loops each)\n"
     ]
    }
   ],
   "source": [
    "%%timeit\n",
    "ai=np.arange(1.5,10000,0.1)"
   ]
  },
  {
   "cell_type": "code",
   "execution_count": 9,
   "id": "493155be",
   "metadata": {},
   "outputs": [
    {
     "name": "stdout",
     "output_type": "stream",
     "text": [
      "--- 0.0846257209777832 seconds ---\n"
     ]
    }
   ],
   "source": [
    "import time\n",
    "start_time = time.time()\n",
    "## ligne de code pour réaliser la rotation avec l'interpolation choisie\n",
    "interple([(-1,0),(0,0),(1,2)],ai)\n",
    "print(\"--- %s seconds ---\" % (time.time() - start_time))"
   ]
  },
  {
   "cell_type": "code",
   "execution_count": 10,
   "id": "d1701d41-ca59-436a-87cc-ce7a122952da",
   "metadata": {},
   "outputs": [
    {
     "name": "stdout",
     "output_type": "stream",
     "text": [
      "--- 0.03124690055847168 seconds ---\n"
     ]
    }
   ],
   "source": [
    "import time\n",
    "start_time = time.time()\n",
    "## ligne de code pour réaliser la rotation avec l'interpolation choisie\n",
    "s2=barycentre([(-1,0),(0,0),(1,2)],ai)\n",
    "print(\"--- %s seconds ---\" % (time.time() - start_time))"
   ]
  },
  {
   "cell_type": "markdown",
   "id": "08235381-0073-4cc7-802c-dedecaedfc31",
   "metadata": {},
   "source": [
    "# La methode barycentrique est plus rapide que l'interpolation"
   ]
  },
  {
   "cell_type": "code",
   "execution_count": 106,
   "id": "1e2e4a53-6002-40e7-ba48-6d892bf64421",
   "metadata": {},
   "outputs": [],
   "source": [
    "def methode_Aiken(points,abcisses,tolerance):\n",
    "        \"\"\"\n",
    "        Calculer les P(aplha) d'une liste de aplha avec la methode Aiken\n",
    "        Args:\n",
    "            points (list): liste des points pour interpoler\n",
    "            absci (list): une liste de apha \n",
    "            tolerance (float): precision\n",
    "\n",
    "        Returns:\n",
    "            la valeur des P(alpha)\n",
    "        \"\"\"\n",
    "        n = len(points)\n",
    "        memory = np.zeros((n, n))\n",
    "        values=[]\n",
    "        for alpha in abcisses: \n",
    "            for i in range(n):\n",
    "                memory[i, 0] = couples[i][1]\n",
    "\n",
    "            iterations = 0\n",
    "            for j in range(1, n):\n",
    "                for i in range(n - j):\n",
    "                    xi, xj = couples[i][0], couples[i + j][0]\n",
    "                    memory[i, j] = ((alpha - xj) * memory[i, j - 1] - (alpha - xi) * memory[i + 1, j - 1]) / (xi - xj)\n",
    "                    iterations += 1     \n",
    "                    if j > 1 and np.all(np.abs(memory[i, j] - memory[i, j-1]) < tolerance):\n",
    "                        values.append(memory[i, j])\n",
    "            values.append(memory[i, j])\n",
    "    \n",
    "        return values"
   ]
  },
  {
   "cell_type": "code",
   "execution_count": 112,
   "id": "19ca9ee1-9767-424a-9505-56ac00a64b9c",
   "metadata": {},
   "outputs": [
    {
     "data": {
      "text/plain": [
       "[12.0, 17.0, 23.0]"
      ]
     },
     "execution_count": 112,
     "metadata": {},
     "output_type": "execute_result"
    }
   ],
   "source": [
    "# Calcul des polynômes\n",
    "couples = [(1, 2), (2, 3), (3, 5)]  \n",
    "result = methode_Aiken(couples, [5,6,7],0.03)\n",
    "result"
   ]
  },
  {
   "cell_type": "code",
   "execution_count": 109,
   "id": "ad0d7ba1-49ca-4813-8c13-7701af2ea7ee",
   "metadata": {},
   "outputs": [
    {
     "data": {
      "text/plain": [
       "[11.999999999999995, 17.000000000000004, 23.000000000000043]"
      ]
     },
     "execution_count": 109,
     "metadata": {},
     "output_type": "execute_result"
    }
   ],
   "source": [
    "s2=barycentre(couples,[5,6,7])\n",
    "s2"
   ]
  },
  {
   "cell_type": "code",
   "execution_count": 114,
   "id": "aedda720-45a1-405b-bbee-126544096c93",
   "metadata": {},
   "outputs": [
    {
     "name": "stdout",
     "output_type": "stream",
     "text": [
      "42.8 ms ± 2.24 ms per loop (mean ± std. dev. of 7 runs, 10 loops each)\n"
     ]
    }
   ],
   "source": [
    "%%timeit\n",
    "s2=methode_Aiken([(-1,0),(0,0),(1,2)],ai,0.02)"
   ]
  },
  {
   "cell_type": "code",
   "execution_count": 115,
   "id": "a317c062-469c-4df2-a322-b0766ea63410",
   "metadata": {},
   "outputs": [
    {
     "name": "stdout",
     "output_type": "stream",
     "text": [
      "10.3 ms ± 903 µs per loop (mean ± std. dev. of 7 runs, 100 loops each)\n"
     ]
    }
   ],
   "source": [
    "%%timeit\n",
    "s2=barycentre([(-1,0),(0,0),(1,2)],ai)"
   ]
  },
  {
   "cell_type": "markdown",
   "id": "a3edc799-5966-4421-8b05-816b70c66a8b",
   "metadata": {},
   "source": [
    "# Mon implementation Barycentre est plus rapide que mon implementation Aiken"
   ]
  }
 ],
 "metadata": {
  "kernelspec": {
   "display_name": "Python 3 (ipykernel)",
   "language": "python",
   "name": "python3"
  },
  "language_info": {
   "codemirror_mode": {
    "name": "ipython",
    "version": 3
   },
   "file_extension": ".py",
   "mimetype": "text/x-python",
   "name": "python",
   "nbconvert_exporter": "python",
   "pygments_lexer": "ipython3",
   "version": "3.9.13"
  }
 },
 "nbformat": 4,
 "nbformat_minor": 5
}
