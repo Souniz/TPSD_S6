{
 "cells": [
  {
   "cell_type": "code",
   "execution_count": 1,
   "id": "bdd140df-4fe0-451a-9551-0333f17f3bd6",
   "metadata": {},
   "outputs": [],
   "source": [
    "import numpy as np"
   ]
  },
  {
   "cell_type": "code",
   "execution_count": 39,
   "id": "73320227-ce0b-4c7b-986a-309aeafc4f90",
   "metadata": {},
   "outputs": [],
   "source": [
    "def decomposition_LDU(A):\n",
    "    D=np.diag(np.diag(A))\n",
    "    U=np.fromfunction(lambda i,j:i<j,A.shape)*A\n",
    "    L=np.fromfunction(lambda i,j:i>j,A.shape)*A\n",
    "    return L,D,U"
   ]
  },
  {
   "cell_type": "code",
   "execution_count": 34,
   "id": "7b4eebfb-8a8b-4202-adee-773c3d3ac66c",
   "metadata": {},
   "outputs": [
    {
     "data": {
      "text/plain": [
       "array([[ 4,  2,  1, -5, -1],\n",
       "       [ 0,  2, -5, -3,  0],\n",
       "       [-6,  3,  4, -6, -1],\n",
       "       [ 2,  5, -2,  3, -1],\n",
       "       [ 4,  1, -3, -6,  3]])"
      ]
     },
     "execution_count": 34,
     "metadata": {},
     "output_type": "execute_result"
    }
   ],
   "source": [
    "n=5\n",
    "A=np.random.randint(-6,6,(n,n))\n",
    "A"
   ]
  },
  {
   "cell_type": "code",
   "execution_count": 40,
   "id": "9b7cecb9-f937-4b67-83d8-4af86e5640f0",
   "metadata": {},
   "outputs": [
    {
     "data": {
      "text/plain": [
       "(array([[ 0,  0,  0,  0,  0],\n",
       "        [ 0,  0,  0,  0,  0],\n",
       "        [-6,  3,  0,  0,  0],\n",
       "        [ 2,  5, -2,  0,  0],\n",
       "        [ 4,  1, -3, -6,  0]]),\n",
       " array([[4, 0, 0, 0, 0],\n",
       "        [0, 2, 0, 0, 0],\n",
       "        [0, 0, 4, 0, 0],\n",
       "        [0, 0, 0, 3, 0],\n",
       "        [0, 0, 0, 0, 3]]),\n",
       " array([[ 0,  2,  1, -5, -1],\n",
       "        [ 0,  0, -5, -3,  0],\n",
       "        [ 0,  0,  0, -6, -1],\n",
       "        [ 0,  0,  0,  0, -1],\n",
       "        [ 0,  0,  0,  0,  0]]))"
      ]
     },
     "execution_count": 40,
     "metadata": {},
     "output_type": "execute_result"
    }
   ],
   "source": [
    "decomposition_LDU(A)"
   ]
  },
  {
   "cell_type": "markdown",
   "id": "525a857f-fb06-4d67-abb4-2da5f77c07ab",
   "metadata": {},
   "source": [
    "# Proposer une fonction calculant \"manuellement\" le produit de deux matrices"
   ]
  },
  {
   "cell_type": "code",
   "execution_count": 90,
   "id": "3e839e84-f0e1-424a-b148-5e3606d0de1f",
   "metadata": {},
   "outputs": [],
   "source": [
    "def produit_matriciel(A,B):\n",
    "    C=np.zeros((A.shape[0],B.shape[1]))\n",
    "    if A.shape[1]!=B.shape[0] :raise Exception('Forme matrice incorrect')\n",
    "    for  i in range(A.shape[0]):\n",
    "        for j in range(B.shape[1]):\n",
    "            C[i,j]=sum(A[i,k]*B[k,j] for k in range(B.shape[0]))\n",
    "    return C"
   ]
  },
  {
   "cell_type": "code",
   "execution_count": 83,
   "id": "ffcf32f0-8890-49ef-8c24-56876123ae75",
   "metadata": {},
   "outputs": [],
   "source": [
    "A=np.random.randint(-5,5,(3,3))\n",
    "B=np.random.randint(-5,5,(3,3))"
   ]
  },
  {
   "cell_type": "code",
   "execution_count": 92,
   "id": "6ff92cb4-01c8-4a07-90db-4cd31c753aff",
   "metadata": {},
   "outputs": [
    {
     "data": {
      "text/plain": [
       "(array([[ 28.,   5.,   0.],\n",
       "        [ 16.,  35.,  12.],\n",
       "        [-12.,  -6.,   9.]]),\n",
       " array([[ 28,   5,   0],\n",
       "        [ 16,  35,  12],\n",
       "        [-12,  -6,   9]]))"
      ]
     },
     "execution_count": 92,
     "metadata": {},
     "output_type": "execute_result"
    }
   ],
   "source": [
    "produit_matriciel(A,B),A@B"
   ]
  },
  {
   "cell_type": "code",
   "execution_count": 93,
   "id": "32e24080-1fba-4b90-9a02-7abd0e09dc6a",
   "metadata": {},
   "outputs": [
    {
     "name": "stdout",
     "output_type": "stream",
     "text": [
      "7.96 µs ± 101 ns per loop (mean ± std. dev. of 7 runs, 100000 loops each)\n"
     ]
    }
   ],
   "source": [
    "%%timeit\n",
    "produit_matriciel(A,B)"
   ]
  },
  {
   "cell_type": "code",
   "execution_count": 94,
   "id": "cfd4c196-d9a6-460a-8311-2eceaf7422ee",
   "metadata": {},
   "outputs": [
    {
     "name": "stdout",
     "output_type": "stream",
     "text": [
      "551 ns ± 8.38 ns per loop (mean ± std. dev. of 7 runs, 1000000 loops each)\n"
     ]
    }
   ],
   "source": [
    "%%timeit\n",
    "A@B"
   ]
  },
  {
   "cell_type": "markdown",
   "id": "a072129e-2797-4c9b-b01c-0812a7861a8e",
   "metadata": {},
   "source": [
    "# Proposer des fonctions permettant de renvoyer les matrices élémentaire suivantes :"
   ]
  },
  {
   "cell_type": "code",
   "execution_count": 97,
   "id": "a7409f58-2778-46f6-9d51-bfff89569c36",
   "metadata": {},
   "outputs": [],
   "source": [
    "def genere_Tij(n,i,j):\n",
    "    A=np.eye(n)\n",
    "    A[[i,j]]=A[[j,i]]\n",
    "    return A"
   ]
  },
  {
   "cell_type": "code",
   "execution_count": 98,
   "id": "1adbe6e6-9668-454f-8d5f-09d02b9f9fe3",
   "metadata": {},
   "outputs": [
    {
     "data": {
      "text/plain": [
       "array([[1., 0., 0., 0., 0.],\n",
       "       [0., 1., 0., 0., 0.],\n",
       "       [0., 0., 0., 1., 0.],\n",
       "       [0., 0., 1., 0., 0.],\n",
       "       [0., 0., 0., 0., 1.]])"
      ]
     },
     "execution_count": 98,
     "metadata": {},
     "output_type": "execute_result"
    }
   ],
   "source": [
    " genere_Tij(5,2,3)"
   ]
  },
  {
   "cell_type": "code",
   "execution_count": 104,
   "id": "1116e93c-c940-4a79-909d-492e6a234be1",
   "metadata": {},
   "outputs": [],
   "source": [
    "def genere_Diλ(n,i,λ):\n",
    "    A=np.eye(n)\n",
    "    A[i]=A[i]*λ\n",
    "    return A"
   ]
  },
  {
   "cell_type": "code",
   "execution_count": 106,
   "id": "e4230f2f-9f74-47f9-aca6-2d36d4f48a62",
   "metadata": {},
   "outputs": [
    {
     "data": {
      "text/plain": [
       "array([[1., 0., 0., 0., 0.],\n",
       "       [0., 1., 0., 0., 0.],\n",
       "       [0., 0., 3., 0., 0.],\n",
       "       [0., 0., 0., 1., 0.],\n",
       "       [0., 0., 0., 0., 1.]])"
      ]
     },
     "execution_count": 106,
     "metadata": {},
     "output_type": "execute_result"
    }
   ],
   "source": [
    "genere_Diλ(5,2,3)"
   ]
  },
  {
   "cell_type": "code",
   "execution_count": 107,
   "id": "222051dd-a212-4a1e-8402-6c039b856c53",
   "metadata": {},
   "outputs": [],
   "source": [
    "def genere_Lrs_λ(n,r,s,λ):\n",
    "    A=np.eye(n)\n",
    "    A[r,s]=λ\n",
    "    return A"
   ]
  },
  {
   "cell_type": "code",
   "execution_count": 110,
   "id": "aef62261-d181-4762-aef1-6042fdbe4eba",
   "metadata": {},
   "outputs": [
    {
     "data": {
      "text/plain": [
       "array([[1., 0., 0., 0., 0.],\n",
       "       [0., 1., 0., 0., 0.],\n",
       "       [0., 0., 1., 5., 0.],\n",
       "       [0., 0., 0., 1., 0.],\n",
       "       [0., 0., 0., 0., 1.]])"
      ]
     },
     "execution_count": 110,
     "metadata": {},
     "output_type": "execute_result"
    }
   ],
   "source": [
    "genere_Lrs_λ(5,2,3,5)"
   ]
  },
  {
   "cell_type": "markdown",
   "id": "2cd045aa-afc5-486b-89cd-4838bc07cdaa",
   "metadata": {},
   "source": [
    "# Vérifiez sur quelques exemples les informations données en cours concernant les matrices inverses des matrices précédentes."
   ]
  },
  {
   "cell_type": "code",
   "execution_count": 114,
   "id": "547c1314-498b-4d45-94bb-43cb9d07ab46",
   "metadata": {},
   "outputs": [
    {
     "data": {
      "text/plain": [
       "array([[1., 0., 0., 0., 0.],\n",
       "       [0., 1., 0., 0., 0.],\n",
       "       [0., 0., 1., 0., 0.],\n",
       "       [0., 0., 0., 1., 0.],\n",
       "       [0., 0., 0., 0., 1.]])"
      ]
     },
     "execution_count": 114,
     "metadata": {},
     "output_type": "execute_result"
    }
   ],
   "source": [
    "genere_Tij(5,2,3)@genere_Tij(5,2,3)"
   ]
  },
  {
   "cell_type": "markdown",
   "id": "51a164ea-c5d2-4fff-9649-947cf82f9fcd",
   "metadata": {},
   "source": [
    "## Tij ⇔ Tij Tij = I"
   ]
  },
  {
   "cell_type": "code",
   "execution_count": 115,
   "id": "19d7670c-523f-4b89-9fe1-fd84eacbd754",
   "metadata": {},
   "outputs": [
    {
     "data": {
      "text/plain": [
       "array([[1., 0., 0., 0., 0.],\n",
       "       [0., 1., 0., 0., 0.],\n",
       "       [0., 0., 1., 0., 0.],\n",
       "       [0., 0., 0., 1., 0.],\n",
       "       [0., 0., 0., 0., 1.]])"
      ]
     },
     "execution_count": 115,
     "metadata": {},
     "output_type": "execute_result"
    }
   ],
   "source": [
    "genere_Diλ(5,2,3)@genere_Diλ(5,2,1/3)"
   ]
  },
  {
   "cell_type": "markdown",
   "id": "33a61182-ca09-44b7-a0d8-17961cd292cc",
   "metadata": {},
   "source": [
    "# Dr(λ)Dr( 1/λ )=I"
   ]
  },
  {
   "cell_type": "code",
   "execution_count": 116,
   "id": "a400e7c2-c6d6-403c-8a43-5d756626d735",
   "metadata": {},
   "outputs": [
    {
     "data": {
      "text/plain": [
       "array([[1., 0., 0., 0., 0.],\n",
       "       [0., 1., 0., 0., 0.],\n",
       "       [0., 0., 1., 0., 0.],\n",
       "       [0., 0., 0., 1., 0.],\n",
       "       [0., 0., 0., 0., 1.]])"
      ]
     },
     "execution_count": 116,
     "metadata": {},
     "output_type": "execute_result"
    }
   ],
   "source": [
    "genere_Lrs_λ(5,2,3,5)@genere_Lrs_λ(5,2,3,-5)"
   ]
  },
  {
   "cell_type": "markdown",
   "id": "0a103408-c9fe-4f96-93f2-bd9858e87d6e",
   "metadata": {},
   "source": [
    "# Lrs(λ)Lrs(−λ) = I"
   ]
  },
  {
   "cell_type": "markdown",
   "id": "1c1bfa24-7450-4160-9853-f8021e5dba0a",
   "metadata": {},
   "source": [
    "# Vérifiez que le produit A=Lr1,s(λ1)Lr2,s(λ2) donne une matrice identité à laquelle on ajoute λ1 sur Ar1,s et λ2 sur Ar2,s."
   ]
  },
  {
   "cell_type": "code",
   "execution_count": 118,
   "id": "1073e813-aa87-4e0c-8437-f15351b1fb15",
   "metadata": {},
   "outputs": [
    {
     "data": {
      "text/plain": [
       "array([[1., 0., 0., 0., 0.],\n",
       "       [0., 1., 0., 0., 0.],\n",
       "       [0., 0., 1., 5., 0.],\n",
       "       [0., 0., 0., 1., 0.],\n",
       "       [0., 0., 0., 2., 1.]])"
      ]
     },
     "execution_count": 118,
     "metadata": {},
     "output_type": "execute_result"
    }
   ],
   "source": [
    "A=genere_Lrs_λ(5,2,3,5)@genere_Lrs_λ(5,4,3,2)\n",
    "A"
   ]
  },
  {
   "cell_type": "markdown",
   "id": "fe3d3ef4-1b0d-4c97-81cd-c99e07f388e9",
   "metadata": {},
   "source": [
    "# Proposez deux écritures de génération de la matrice Mr((λr+1,…,λn))=Lr+1,r(λr+1)…Ln,r(λn)."
   ]
  },
  {
   "cell_type": "code",
   "execution_count": null,
   "id": "5e1ea732-2e0f-4093-8010-d1ddc2fbaca7",
   "metadata": {},
   "outputs": [],
   "source": []
  },
  {
   "cell_type": "markdown",
   "id": "5fc26942-3623-4373-8dea-d3dd1afb0a47",
   "metadata": {},
   "source": [
    "# TP SUIVANT"
   ]
  },
  {
   "cell_type": "code",
   "execution_count": 112,
   "id": "0d5f6ed5-a02b-4ad9-a4ca-9f8ce1948256",
   "metadata": {},
   "outputs": [],
   "source": [
    "def M(A,s):\n",
    "    n=A.shape[0]\n",
    "    I=np.eye(n)\n",
    "    I[s+1:,s]=-A[s+1:,s]/A[s,s]\n",
    "    return I\n",
    "\n",
    "for s in range(n-1):\n",
    "    A=M(A,s)@A\n",
    "    print(A)"
   ]
  }
 ],
 "metadata": {
  "kernelspec": {
   "display_name": "Python 3 (ipykernel)",
   "language": "python",
   "name": "python3"
  },
  "language_info": {
   "codemirror_mode": {
    "name": "ipython",
    "version": 3
   },
   "file_extension": ".py",
   "mimetype": "text/x-python",
   "name": "python",
   "nbconvert_exporter": "python",
   "pygments_lexer": "ipython3",
   "version": "3.10.12"
  }
 },
 "nbformat": 4,
 "nbformat_minor": 5
}
