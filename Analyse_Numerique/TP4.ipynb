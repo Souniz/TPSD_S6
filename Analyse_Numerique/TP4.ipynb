{
 "cells": [
  {
   "cell_type": "code",
   "execution_count": 27,
   "id": "bf9285b0-2d33-4015-9fe4-ac12c596d7ec",
   "metadata": {},
   "outputs": [],
   "source": [
    "import numpy as np\n",
    "import matplotlib.pyplot as plt"
   ]
  },
  {
   "cell_type": "code",
   "execution_count": 36,
   "id": "ab204f40-0f5a-4fb4-878c-d4c67838b0e1",
   "metadata": {},
   "outputs": [],
   "source": [
    "def calcul_integrale(funct,a,b,subdi,methode):\n",
    "    a,b=min((a,b)),max((a,b))\n",
    "    h=(b-a)/subdi\n",
    "    if methode==\"rectangle\":\n",
    "        return h*sum([funct(i) for i in np.arange(a+h/2,b,h)])\n",
    "    if methode==\"trapeze\":\n",
    "        return h*((funct(a)+funct(b))/2+sum([funct(i) for i in np.arange(a,b,h)]))\n",
    "    if methode==\"simpson\":\n",
    "        if subdi%2!=0:\n",
    "            raise Exception('Errer le nombre de subdivision doit etre paire')\n",
    "        val=[i for i in np.arange(a,b,h)]\n",
    "        return h/3*(funct(a)+funct(b)+2*sum([funct(val[i]) for i in range(2,subdi,2)]) +4*sum([funct(val[i]) for i in range(1,subdi,2)]))\n",
    "    else:\n",
    "        raise Exception('Methode introuvable')"
   ]
  },
  {
   "cell_type": "markdown",
   "id": "56160b46-d419-4461-8b1d-933f20efe0eb",
   "metadata": {},
   "source": [
    "###  $f(x)=\\int_{0}^{\\pi/2 } np.sin(x) \\, dx = 1$"
   ]
  },
  {
   "cell_type": "code",
   "execution_count": 54,
   "id": "3c2f53c2-0997-456a-b211-6d858712a27c",
   "metadata": {},
   "outputs": [
    {
     "data": {
      "text/plain": [
       "1.0028615075117908"
      ]
     },
     "execution_count": 54,
     "metadata": {},
     "output_type": "execute_result"
    }
   ],
   "source": [
    "calcul_integrale(lambda x:np.sin(x),0,np.pi/2,6,'rectangle')"
   ]
  },
  {
   "cell_type": "code",
   "execution_count": 64,
   "id": "b8fd41f0-ab88-4acb-9774-5988e1a61383",
   "metadata": {},
   "outputs": [
    {
     "data": {
      "text/plain": [
       "1.0004017081549652"
      ]
     },
     "execution_count": 64,
     "metadata": {},
     "output_type": "execute_result"
    }
   ],
   "source": [
    "calcul_integrale(lambda x:np.sin(x),0,np.pi/2,20,'rectangle')"
   ]
  },
  {
   "cell_type": "code",
   "execution_count": 55,
   "id": "3c24d6c2-d314-4200-885c-bec23240d9e5",
   "metadata": {},
   "outputs": [
    {
     "data": {
      "text/plain": [
       "0.9942818882921578"
      ]
     },
     "execution_count": 55,
     "metadata": {},
     "output_type": "execute_result"
    }
   ],
   "source": [
    "calcul_integrale(lambda x:np.sin(x),0,np.pi/2,6,'trapeze')"
   ]
  },
  {
   "cell_type": "code",
   "execution_count": 61,
   "id": "32fff26c-090e-4cfd-82a2-7b8a46a9d839",
   "metadata": {},
   "outputs": [
    {
     "data": {
      "text/plain": [
       "0.9994859052485329"
      ]
     },
     "execution_count": 61,
     "metadata": {},
     "output_type": "execute_result"
    }
   ],
   "source": [
    "calcul_integrale(lambda x:np.sin(x),0,np.pi/2,20,'trapeze')"
   ]
  },
  {
   "cell_type": "code",
   "execution_count": 56,
   "id": "6f5b2945-294d-4241-a27b-9e9ac7a091ea",
   "metadata": {},
   "outputs": [
    {
     "data": {
      "text/plain": [
       "1.0000263121705926"
      ]
     },
     "execution_count": 56,
     "metadata": {},
     "output_type": "execute_result"
    }
   ],
   "source": [
    "calcul_integrale(lambda x:np.sin(x),0,np.pi/2,6,'simpson')"
   ]
  },
  {
   "cell_type": "code",
   "execution_count": 67,
   "id": "1234e5e5-5273-42a6-bc66-0140a6c1df49",
   "metadata": {},
   "outputs": [
    {
     "data": {
      "text/plain": [
       "1.0000002115465914"
      ]
     },
     "execution_count": 67,
     "metadata": {},
     "output_type": "execute_result"
    }
   ],
   "source": [
    "calcul_integrale(lambda x:np.sin(x),0,np.pi/2,20,'simpson')"
   ]
  },
  {
   "cell_type": "markdown",
   "id": "6d4bbb00-a05b-4753-ba14-b2a1ce4d0355",
   "metadata": {},
   "source": [
    "### La methode de rectangle et la methode de simpson estiment mieux la valeur de l'intergrale de cette fonction sur l'intervalle considere  que la methode  de trapeze\n",
    "### Avec la metthode de trapeze meme avec un nombre subdivision tres grand la methode sous-estime l'integrale "
   ]
  },
  {
   "cell_type": "markdown",
   "id": "17124a91-be74-443e-94d3-af061aa4ec8e",
   "metadata": {},
   "source": [
    "## Concernant l'influence du nombre de subdivisions,on voit bien que son augementation permet de se rapprocher d'avantage a la valeur theorique dans tout les methodes"
   ]
  },
  {
   "cell_type": "markdown",
   "id": "f77931a8-f814-400d-9099-06d0aef7363f",
   "metadata": {},
   "source": [
    "### $ f(x)=\\int_{0}^{\\pi/2} cos(x)\\, dx=1$"
   ]
  },
  {
   "cell_type": "code",
   "execution_count": 68,
   "id": "cef175ff-00e9-4556-aff8-a7e60821c82d",
   "metadata": {},
   "outputs": [
    {
     "data": {
      "text/plain": [
       "1.0028615075117904"
      ]
     },
     "execution_count": 68,
     "metadata": {},
     "output_type": "execute_result"
    }
   ],
   "source": [
    "calcul_integrale(lambda x:np.cos(x),0,np.pi/2,6,'rectangle')"
   ]
  },
  {
   "cell_type": "code",
   "execution_count": 69,
   "id": "12c575b2-7f94-43c5-8c35-52698c5e9c56",
   "metadata": {},
   "outputs": [
    {
     "data": {
      "text/plain": [
       "1.0002570671973028"
      ]
     },
     "execution_count": 69,
     "metadata": {},
     "output_type": "execute_result"
    }
   ],
   "source": [
    "calcul_integrale(lambda x:np.cos(x),0,np.pi/2,20,'rectangle')"
   ]
  },
  {
   "cell_type": "code",
   "execution_count": 70,
   "id": "780f2f0b-6fea-437a-8db1-b6e3b37e02e3",
   "metadata": {},
   "outputs": [
    {
     "data": {
      "text/plain": [
       "1.2560812760913074"
      ]
     },
     "execution_count": 70,
     "metadata": {},
     "output_type": "execute_result"
    }
   ],
   "source": [
    "calcul_integrale(lambda x:np.cos(x),0,np.pi/2,6,'trapeze')"
   ]
  },
  {
   "cell_type": "code",
   "execution_count": 71,
   "id": "f2f43b16-2691-44ee-878f-635c3418bac9",
   "metadata": {},
   "outputs": [
    {
     "data": {
      "text/plain": [
       "1.0780257215882778"
      ]
     },
     "execution_count": 71,
     "metadata": {},
     "output_type": "execute_result"
    }
   ],
   "source": [
    "calcul_integrale(lambda x:np.cos(x),0,np.pi/2,20,'trapeze')"
   ]
  },
  {
   "cell_type": "code",
   "execution_count": 72,
   "id": "d1e6be5f-62aa-42fc-832d-308bf6cb86e7",
   "metadata": {},
   "outputs": [
    {
     "data": {
      "text/plain": [
       "1.0000263121705928"
      ]
     },
     "execution_count": 72,
     "metadata": {},
     "output_type": "execute_result"
    }
   ],
   "source": [
    "calcul_integrale(lambda x:np.cos(x),0,np.pi/2,6,'simpson')"
   ]
  },
  {
   "cell_type": "code",
   "execution_count": 73,
   "id": "5fca210b-b611-4d86-9017-7c4acc4c8cdd",
   "metadata": {},
   "outputs": [
    {
     "data": {
      "text/plain": [
       "1.0000002115465914"
      ]
     },
     "execution_count": 73,
     "metadata": {},
     "output_type": "execute_result"
    }
   ],
   "source": [
    "calcul_integrale(lambda x:np.cos(x),0,np.pi/2,20,'simpson')"
   ]
  },
  {
   "cell_type": "markdown",
   "id": "e3d21a0a-cafd-4303-b87b-aec61d4998a6",
   "metadata": {},
   "source": [
    "### La methode de rectangle et la methode de simpson estiment mieux la valeur de l'intergrale de cette fonction sur l'intervalle considere  que la methode  de trapeze\n",
    "### Contrairement avec la methode sin(x) la methode de cos(x) est sur-estimer par la methode de trapze si le subdivision est relativement petit"
   ]
  },
  {
   "cell_type": "markdown",
   "id": "2193b327-ca72-4ce8-b646-c59e481f76a9",
   "metadata": {},
   "source": [
    "## Concernant l'influence du nombre de subdivisions,on voit bien que son augementation permet de se rapprocher d'avantage a la valeur theorique dans tout les methodes et surtout dimunie la surestimation avec la methode de trapeze"
   ]
  },
  {
   "cell_type": "markdown",
   "id": "350b7edc-054e-4bb7-89d8-7d9603a11b77",
   "metadata": {},
   "source": [
    "# On peut dire que la methode des trapezes n'est pas tres performant si la fonction est un sinus ou un cosinus.Parfois elle sous-estime l'integrale parfois elle la sur-estime "
   ]
  },
  {
   "cell_type": "markdown",
   "id": "5a2ea7a5-75f4-4310-964c-081047ab20f0",
   "metadata": {},
   "source": [
    "### $ f(x)=\\int_{1}^{2} \\log(x)\\, dx= \\frac{2\\cdot{log(2)-1}}{{log(10)}}=0.16776550942471052$"
   ]
  },
  {
   "cell_type": "code",
   "execution_count": 101,
   "id": "5b10a3d3-5eed-4d7f-b00a-04ecc57f3270",
   "metadata": {},
   "outputs": [
    {
     "data": {
      "text/plain": [
       "0.16801613135989737"
      ]
     },
     "execution_count": 101,
     "metadata": {},
     "output_type": "execute_result"
    }
   ],
   "source": [
    "calcul_integrale(lambda x:np.log10(x),1,2,6,'rectangle')"
   ]
  },
  {
   "cell_type": "code",
   "execution_count": 102,
   "id": "5a98a271-44cf-4db2-bebf-0ab3106a826b",
   "metadata": {},
   "outputs": [
    {
     "data": {
      "text/plain": [
       "0.16778812316133485"
      ]
     },
     "execution_count": 102,
     "metadata": {},
     "output_type": "execute_result"
    }
   ],
   "source": [
    "calcul_integrale(lambda x:np.log10(x),1,2,20,'rectangle')"
   ]
  },
  {
   "cell_type": "code",
   "execution_count": 103,
   "id": "c72436c2-62a0-4ad3-ac31-8d0991ae22bc",
   "metadata": {},
   "outputs": [
    {
     "data": {
      "text/plain": [
       "0.1672636612529205"
      ]
     },
     "execution_count": 103,
     "metadata": {},
     "output_type": "execute_result"
    }
   ],
   "source": [
    "calcul_integrale(lambda x:np.log10(x),1,2,6,'trapeze')"
   ]
  },
  {
   "cell_type": "code",
   "execution_count": 104,
   "id": "dede5b66-0e94-47e0-929b-2f8c196282fd",
   "metadata": {},
   "outputs": [
    {
     "data": {
      "text/plain": [
       "0.1677202770083272"
      ]
     },
     "execution_count": 104,
     "metadata": {},
     "output_type": "execute_result"
    }
   ],
   "source": [
    "calcul_integrale(lambda x:np.log10(x),1,2,20,'trapeze')"
   ]
  },
  {
   "cell_type": "code",
   "execution_count": 93,
   "id": "5c49e76f-45f3-4a56-bef0-cbec5dab6fe6",
   "metadata": {},
   "outputs": [
    {
     "data": {
      "text/plain": [
       "0.16776238344204433"
      ]
     },
     "execution_count": 93,
     "metadata": {},
     "output_type": "execute_result"
    }
   ],
   "source": [
    "calcul_integrale(lambda x:np.log10(x),1,2,6,'simpson')"
   ]
  },
  {
   "cell_type": "code",
   "execution_count": 94,
   "id": "cd88cde7-b241-4111-a49d-580219db4c6b",
   "metadata": {},
   "outputs": [
    {
     "data": {
      "text/plain": [
       "0.16776548313880518"
      ]
     },
     "execution_count": 94,
     "metadata": {},
     "output_type": "execute_result"
    }
   ],
   "source": [
    "calcul_integrale(lambda x:np.log10(x),1,2,20,'simpson')"
   ]
  },
  {
   "cell_type": "markdown",
   "id": "48c16198-37e9-4f32-ae94-689c1e1464ce",
   "metadata": {},
   "source": [
    "### Tous les methodes ont bien estimer la valeur de l'integrale de la fonction sur l'intervalle considerer.\n",
    "### L'augmentation du nombre de subdivision permet de d'augmenter la precision"
   ]
  },
  {
   "cell_type": "markdown",
   "id": "875a5f26-c7c4-4a92-9f1a-378222821d17",
   "metadata": {},
   "source": [
    "## $ f(x)=\\int_{0}^{1}e^x\\,dx=e-1=1.718281828459045$"
   ]
  },
  {
   "cell_type": "code",
   "execution_count": 107,
   "id": "ea7aedec-cf78-4837-8f69-8bd61d9974ed",
   "metadata": {},
   "outputs": [
    {
     "data": {
      "text/plain": [
       "1.7162946864212902"
      ]
     },
     "execution_count": 107,
     "metadata": {},
     "output_type": "execute_result"
    }
   ],
   "source": [
    "calcul_integrale(lambda x:np.exp(x),0,1,6,'rectangle')"
   ]
  },
  {
   "cell_type": "code",
   "execution_count": 108,
   "id": "9df90528-0199-4db9-b220-fcf8a6a62733",
   "metadata": {},
   "outputs": [
    {
     "data": {
      "text/plain": [
       "1.7181028538189065"
      ]
     },
     "execution_count": 108,
     "metadata": {},
     "output_type": "execute_result"
    }
   ],
   "source": [
    "calcul_integrale(lambda x:np.exp(x),0,1,20,'rectangle')"
   ]
  },
  {
   "cell_type": "code",
   "execution_count": 109,
   "id": "35611333-87dd-415e-9d87-3b2992939500",
   "metadata": {},
   "outputs": [
    {
     "data": {
      "text/plain": [
       "1.8889241591381476"
      ]
     },
     "execution_count": 109,
     "metadata": {},
     "output_type": "execute_result"
    }
   ],
   "source": [
    "calcul_integrale(lambda x:np.exp(x),0,1,6,'trapeze')"
   ]
  },
  {
   "cell_type": "code",
   "execution_count": 110,
   "id": "31f25f84-9e49-4e9c-8f14-1fdcf0e1c723",
   "metadata": {},
   "outputs": [
    {
     "data": {
      "text/plain": [
       "1.768639788925221"
      ]
     },
     "execution_count": 110,
     "metadata": {},
     "output_type": "execute_result"
    }
   ],
   "source": [
    "calcul_integrale(lambda x:np.exp(x),0,1,20,'trapeze')"
   ]
  },
  {
   "cell_type": "code",
   "execution_count": 111,
   "id": "0126fadb-1397-43aa-86dc-f9316f2590ff",
   "metadata": {},
   "outputs": [
    {
     "data": {
      "text/plain": [
       "1.7182891699208316"
      ]
     },
     "execution_count": 111,
     "metadata": {},
     "output_type": "execute_result"
    }
   ],
   "source": [
    "calcul_integrale(lambda x:np.exp(x),0,1,6,'simpson')"
   ]
  },
  {
   "cell_type": "code",
   "execution_count": 112,
   "id": "7b14b3d0-6b30-4b5d-8cc4-33fe5f0bd017",
   "metadata": {},
   "outputs": [
    {
     "data": {
      "text/plain": [
       "1.7182818881038566"
      ]
     },
     "execution_count": 112,
     "metadata": {},
     "output_type": "execute_result"
    }
   ],
   "source": [
    "calcul_integrale(lambda x:np.exp(x),0,1,20,'simpson')"
   ]
  },
  {
   "cell_type": "markdown",
   "id": "386041c7-91d5-41b4-8b1d-01eb8e3199fa",
   "metadata": {},
   "source": [
    "### La methode du rectangle et de simpson ont bien estime la valeur de l'integrale mais la  methode des trapzes sur-estime la valeur si le nombre de subdivision est petit "
   ]
  },
  {
   "cell_type": "markdown",
   "id": "ba6e50f5-7ba5-45cf-b9e8-457a71b2f9c8",
   "metadata": {},
   "source": [
    "### $ f(x)=\\int_ {-1}^{1} x^3+3\\,dx=2$"
   ]
  },
  {
   "cell_type": "code",
   "execution_count": 121,
   "id": "8aa13e43-abb0-4c22-ad55-60df08238292",
   "metadata": {},
   "outputs": [
    {
     "data": {
      "text/plain": [
       "2.0"
      ]
     },
     "execution_count": 121,
     "metadata": {},
     "output_type": "execute_result"
    }
   ],
   "source": [
    "calcul_integrale(lambda x:x**3+1,-1,1,6,'rectangle')"
   ]
  },
  {
   "cell_type": "code",
   "execution_count": 122,
   "id": "7c93e4c1-6664-48e5-bd06-76076aec0281",
   "metadata": {},
   "outputs": [
    {
     "data": {
      "text/plain": [
       "2.349423338523468"
      ]
     },
     "execution_count": 122,
     "metadata": {},
     "output_type": "execute_result"
    }
   ],
   "source": [
    "calcul_integrale(lambda x:np.exp(x),-1,1,20,'rectangle')"
   ]
  },
  {
   "cell_type": "code",
   "execution_count": 124,
   "id": "a88d5d3c-7ec9-400a-b739-19f0bd7450ba",
   "metadata": {},
   "outputs": [
    {
     "data": {
      "text/plain": [
       "1.9999999999999996"
      ]
     },
     "execution_count": 124,
     "metadata": {},
     "output_type": "execute_result"
    }
   ],
   "source": [
    "calcul_integrale(lambda x:x**3+1,-1,1,6,'trapeze')"
   ]
  },
  {
   "cell_type": "code",
   "execution_count": 125,
   "id": "5b78c4cf-8643-4185-a8f5-d2a354ff8c29",
   "metadata": {},
   "outputs": [
    {
     "data": {
      "text/plain": [
       "1.9999999999999998"
      ]
     },
     "execution_count": 125,
     "metadata": {},
     "output_type": "execute_result"
    }
   ],
   "source": [
    "calcul_integrale(lambda x:x**3+1,-1,1,20,'trapeze')"
   ]
  },
  {
   "cell_type": "code",
   "execution_count": 126,
   "id": "4111bf8f-c242-47d6-b8e0-231a95778ad9",
   "metadata": {},
   "outputs": [
    {
     "data": {
      "text/plain": [
       "2.0"
      ]
     },
     "execution_count": 126,
     "metadata": {},
     "output_type": "execute_result"
    }
   ],
   "source": [
    "calcul_integrale(lambda x:x**3+1,-1,1,6,'simpson')"
   ]
  },
  {
   "cell_type": "code",
   "execution_count": 129,
   "id": "086ee2e9-be23-458e-982d-1828cb3cace3",
   "metadata": {},
   "outputs": [
    {
     "data": {
      "text/plain": [
       "1.9999999999999996"
      ]
     },
     "execution_count": 129,
     "metadata": {},
     "output_type": "execute_result"
    }
   ],
   "source": [
    "calcul_integrale(lambda x:x**3+1,-1,1,20,'simpson')"
   ]
  },
  {
   "cell_type": "markdown",
   "id": "e9e65a3b-3eaa-4f8a-9f5d-6132862db061",
   "metadata": {},
   "source": [
    "### La methode du rectangle et de simpson donnent la valeur theorique de l'integrale avec 6 subdivisions mais si on augmente le nombre de subdivision  elles sous-estiment un tout petit peu  l'integrale comme la fait la methode des trapezes"
   ]
  }
 ],
 "metadata": {
  "kernelspec": {
   "display_name": "Python 3 (ipykernel)",
   "language": "python",
   "name": "python3"
  },
  "language_info": {
   "codemirror_mode": {
    "name": "ipython",
    "version": 3
   },
   "file_extension": ".py",
   "mimetype": "text/x-python",
   "name": "python",
   "nbconvert_exporter": "python",
   "pygments_lexer": "ipython3",
   "version": "3.9.13"
  }
 },
 "nbformat": 4,
 "nbformat_minor": 5
}
