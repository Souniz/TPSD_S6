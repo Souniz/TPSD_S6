{
 "cells": [
  {
   "cell_type": "code",
   "execution_count": 1,
   "id": "86f26342",
   "metadata": {},
   "outputs": [],
   "source": [
    "import numpy as np"
   ]
  },
  {
   "cell_type": "code",
   "execution_count": 5,
   "id": "ade38045",
   "metadata": {},
   "outputs": [
    {
     "name": "stdout",
     "output_type": "stream",
     "text": [
      "0.451229424500714\n",
      "0.17774348632855286\n",
      "0.041218871650877675\n",
      "-0.02698963861996584\n"
     ]
    }
   ],
   "source": [
    "a=0\n",
    "b=1\n",
    "for i in range(0,4):\n",
    "    m=(a+b)/2\n",
    "    r=np.exp(-m/10)-m\n",
    "    if r*(np.exp(-a/10)-a)<0:\n",
    "        b=m\n",
    "    else:\n",
    "        a=m\n",
    "    print(r)"
   ]
  },
  {
   "cell_type": "code",
   "execution_count": 6,
   "id": "a0809ab9",
   "metadata": {},
   "outputs": [],
   "source": [
    "def f(x):\n",
    "    return np.exp(-x/10)-x"
   ]
  },
  {
   "cell_type": "code",
   "execution_count": 29,
   "id": "bd96a3ab",
   "metadata": {},
   "outputs": [],
   "source": [
    "def fprim(x):\n",
    "    return -1/10*np.exp(-x/10)-1"
   ]
  },
  {
   "cell_type": "code",
   "execution_count": 23,
   "id": "433e1918",
   "metadata": {},
   "outputs": [
    {
     "name": "stdout",
     "output_type": "stream",
     "text": [
      "0.9127652716086226\n"
     ]
    }
   ],
   "source": [
    "xo=0\n",
    "x1=1\n",
    "for i in range(0,5):\n",
    "    r=x1-((x1-xo)/(f(x1)-f(xo)))*f(x1)\n",
    "    xo=x1\n",
    "    x1=r\n",
    "print(x1)"
   ]
  },
  {
   "cell_type": "code",
   "execution_count": 31,
   "id": "321bdb5e",
   "metadata": {},
   "outputs": [
    {
     "data": {
      "text/plain": [
       "0.0008351256162227871"
      ]
     },
     "execution_count": 31,
     "metadata": {},
     "output_type": "execute_result"
    }
   ],
   "source": [
    "f(0.912)"
   ]
  },
  {
   "cell_type": "code",
   "execution_count": 32,
   "id": "e572a831",
   "metadata": {},
   "outputs": [
    {
     "data": {
      "text/plain": [
       "-1.0912835125616223"
      ]
     },
     "execution_count": 32,
     "metadata": {},
     "output_type": "execute_result"
    }
   ],
   "source": [
    "fprim(0.912)"
   ]
  },
  {
   "cell_type": "code",
   "execution_count": 4,
   "id": "a0634b5e-c87e-4acc-8e26-ec3c74f379de",
   "metadata": {},
   "outputs": [
    {
     "data": {
      "text/plain": [
       "1.2097576259373253"
      ]
     },
     "execution_count": 4,
     "metadata": {},
     "output_type": "execute_result"
    }
   ],
   "source": [
    "19/(4*np.sqrt(185/12))"
   ]
  },
  {
   "cell_type": "code",
   "execution_count": 6,
   "id": "f3dddb08-8b95-4670-af01-5cca258bc57d",
   "metadata": {},
   "outputs": [],
   "source": [
    "def f(x):\n",
    "    return x**3/3-2*x**2+3*x-5/2\n",
    "def fprim(x):\n",
    "    return x**2-4*x+3"
   ]
  },
  {
   "cell_type": "code",
   "execution_count": 38,
   "id": "151055d7-86af-424c-b0ec-cae2e50b3fcf",
   "metadata": {},
   "outputs": [
    {
     "data": {
      "text/plain": [
       "4.479166666666667"
      ]
     },
     "execution_count": 38,
     "metadata": {},
     "output_type": "execute_result"
    }
   ],
   "source": [
    "x=5\n",
    "x=x-f(x)/fprim(x)\n",
    "x"
   ]
  },
  {
   "cell_type": "code",
   "execution_count": 34,
   "id": "3971b1c1-c3e9-4dd1-a8bf-fa5788bb23e0",
   "metadata": {},
   "outputs": [],
   "source": [
    "x=2.5"
   ]
  },
  {
   "cell_type": "code",
   "execution_count": 41,
   "id": "884b079a-f149-48a5-8e58-09ac5b0b5cf0",
   "metadata": {},
   "outputs": [
    {
     "data": {
      "text/plain": [
       "4.317931290794855"
      ]
     },
     "execution_count": 41,
     "metadata": {},
     "output_type": "execute_result"
    }
   ],
   "source": [
    "x=x-f(x)/fprim(x)\n",
    "x"
   ]
  },
  {
   "cell_type": "code",
   "execution_count": null,
   "id": "0e280cd6-84ff-4181-bf7b-15c070d95626",
   "metadata": {},
   "outputs": [],
   "source": []
  }
 ],
 "metadata": {
  "kernelspec": {
   "display_name": "Python 3 (ipykernel)",
   "language": "python",
   "name": "python3"
  },
  "language_info": {
   "codemirror_mode": {
    "name": "ipython",
    "version": 3
   },
   "file_extension": ".py",
   "mimetype": "text/x-python",
   "name": "python",
   "nbconvert_exporter": "python",
   "pygments_lexer": "ipython3",
   "version": "3.9.13"
  }
 },
 "nbformat": 4,
 "nbformat_minor": 5
}
