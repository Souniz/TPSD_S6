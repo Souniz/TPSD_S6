{
 "cells": [
  {
   "cell_type": "code",
   "execution_count": 1,
   "id": "37b9cdbe-1440-4ec9-a497-ab1f33483a6c",
   "metadata": {},
   "outputs": [],
   "source": [
    "import numpy as np\n",
    "import scipy.linalg as sc\n",
    "import warnings\n",
    "warnings.filterwarnings(\"ignore\")"
   ]
  },
  {
   "cell_type": "markdown",
   "id": "52b0e832-16bf-46e7-bcce-1b24c01f36e1",
   "metadata": {},
   "source": [
    "Résolution de Ax=b avec A une matrice carrée n×n et b∈Rn\n",
    "\n",
    "    Résolution d'un système linéaire triangulaire\n",
    "        supérieur\n",
    "        inférieur\n",
    "    Méthode de Gauss\n",
    "        Méthode de triangulation de Gauss\n",
    "        Appel à la résolution\n",
    "    Résolution par décomposition LU\n",
    "        Décomposition LU de la matrice A\n",
    "        Résolution du système initial par la résolution de deux système triangulaires (supérieur et inférieur)\n",
    "    Méthodes itératives\n",
    "    Si vous avez le temps, vous écrirez les méthodes par calcul des éléments de xi\n",
    "\n",
    "    et également l'écriture matricielle.\n",
    "        Méthode de Jabobi\n",
    "        Méthode de Gauss-Seidel\n",
    "        Méthode de relaxation\n",
    "\n",
    "Implantez la méthode du calcul de l'inverse d'une matrice carrée A\n",
    "par \"double triangulation\", puis division des lignes par les éléments diagonaux."
   ]
  },
  {
   "cell_type": "markdown",
   "id": "4946a3e8-5385-4684-927d-01ba67f44423",
   "metadata": {},
   "source": [
    "# Outils TP5"
   ]
  },
  {
   "cell_type": "code",
   "execution_count": 2,
   "id": "deaafc95-18b6-4cbf-9290-52904e1c89d4",
   "metadata": {},
   "outputs": [],
   "source": [
    "def genere_Tij(n,i,j):\n",
    "    A=np.eye(n)\n",
    "    A[[i,j]]=A[[j,i]]\n",
    "    return A"
   ]
  },
  {
   "cell_type": "code",
   "execution_count": 3,
   "id": "0647f0ec-1266-4960-aeeb-b33a9e7ff976",
   "metadata": {},
   "outputs": [],
   "source": [
    "def genere_Lrs_λ(n,r,s,λ):\n",
    "    M=np.eye(n)\n",
    "    M[r,s]=λ\n",
    "    return M"
   ]
  },
  {
   "cell_type": "code",
   "execution_count": 4,
   "id": "69dbc5c9-f0f1-46bb-80fa-c803be93d3ee",
   "metadata": {},
   "outputs": [],
   "source": [
    "def generation_M_second_way(A,r):\n",
    "    n=len(A)\n",
    "    M=np.eye(n)\n",
    "    Minverse=np.eye(n)\n",
    "    for i in range(r+1,n):\n",
    "        M=M @ genere_Lrs_λ(n,i,r,-A[i,r]/A[r,r])\n",
    "        Minverse=Minverse @ genere_Lrs_λ(n,i,r,A[i,r]/A[r,r])\n",
    "    return M,Minverse"
   ]
  },
  {
   "cell_type": "markdown",
   "id": "bc31d279-d108-4cdb-9180-8d306fc58ab1",
   "metadata": {},
   "source": [
    "## 1) Résolution de Ax=b avec A une matrice carrée n×n et b∈Rn"
   ]
  },
  {
   "cell_type": "markdown",
   "id": "5765d7f0-f259-4719-884d-573103c16146",
   "metadata": {},
   "source": [
    "## Résolution d'un système linéaire triangulaire"
   ]
  },
  {
   "cell_type": "code",
   "execution_count": 5,
   "id": "7c69cf12-658b-4745-b2b8-90759bd96fcc",
   "metadata": {},
   "outputs": [],
   "source": [
    "def resol_superieur(A,b):\n",
    "    n=A.shape[0]\n",
    "    x=np.zeros(n)\n",
    "    n=n-1\n",
    "    x[n]=b[n]/A[n,n]\n",
    "    for i in range(n-1,-1,-1):\n",
    "        x[i]=(b[i]-sum(A[i,i+1:]*x[i+1:]))/A[i,i]\n",
    "    return x"
   ]
  },
  {
   "cell_type": "code",
   "execution_count": 6,
   "id": "1b7a9a1b-489d-44e4-9a23-74606a0374a1",
   "metadata": {},
   "outputs": [],
   "source": [
    "A=np.random.randint(1,6,(3,3))"
   ]
  },
  {
   "cell_type": "code",
   "execution_count": 7,
   "id": "1fc008e7-41ea-44e9-9fe2-fcdeadc0e853",
   "metadata": {},
   "outputs": [
    {
     "data": {
      "text/plain": [
       "array([[5.    , 4.    , 1.    ],\n",
       "       [0.    , 3.2   , 3.8   ],\n",
       "       [0.    , 0.    , 3.0625]])"
      ]
     },
     "execution_count": 7,
     "metadata": {},
     "output_type": "execute_result"
    }
   ],
   "source": [
    "l,u=sc.decomp_lu.lu(A)[1:3]\n",
    "u"
   ]
  },
  {
   "cell_type": "code",
   "execution_count": 8,
   "id": "4ae83915-9e8e-415d-af46-dd838e9c0455",
   "metadata": {},
   "outputs": [
    {
     "data": {
      "text/plain": [
       "array([-0.53979592,  1.0880102 , -0.65306122])"
      ]
     },
     "execution_count": 8,
     "metadata": {},
     "output_type": "execute_result"
    }
   ],
   "source": [
    "res=resol_superieur(u,np.array([1,1,-2]))\n",
    "res"
   ]
  },
  {
   "cell_type": "code",
   "execution_count": 9,
   "id": "ca59b33d-3fe8-4bb5-829b-14b38472d070",
   "metadata": {},
   "outputs": [
    {
     "data": {
      "text/plain": [
       "array([ 1.,  1., -2.])"
      ]
     },
     "execution_count": 9,
     "metadata": {},
     "output_type": "execute_result"
    }
   ],
   "source": [
    "u@res"
   ]
  },
  {
   "cell_type": "code",
   "execution_count": 10,
   "id": "a2000112-510a-4360-ade9-967fb0310d9e",
   "metadata": {},
   "outputs": [],
   "source": [
    "def resol_inferieur(A,b):\n",
    "    n=A.shape[0]\n",
    "    x=np.zeros(n)\n",
    "    x[0]=b[0]/A[0,0]\n",
    "    for i in range(1,n):\n",
    "        x[i]=(b[i]-sum(A[i,0:i]*x[0:i]))/A[i,i]\n",
    "    return x"
   ]
  },
  {
   "cell_type": "code",
   "execution_count": 11,
   "id": "6d1fce7b-bbab-4ada-ab0c-6c5f2f1fb735",
   "metadata": {},
   "outputs": [
    {
     "data": {
      "text/plain": [
       "array([1.    , 3.8   , 0.0625])"
      ]
     },
     "execution_count": 11,
     "metadata": {},
     "output_type": "execute_result"
    }
   ],
   "source": [
    "res=resol_inferieur(l,np.array([1,4,-1]))\n",
    "res"
   ]
  },
  {
   "cell_type": "code",
   "execution_count": 12,
   "id": "978f3e27-065c-460f-bf4e-bc9ae26ed5a8",
   "metadata": {},
   "outputs": [
    {
     "data": {
      "text/plain": [
       "array([ 1.,  4., -1.])"
      ]
     },
     "execution_count": 12,
     "metadata": {},
     "output_type": "execute_result"
    }
   ],
   "source": [
    "l@res"
   ]
  },
  {
   "cell_type": "markdown",
   "id": "5c381af1-520c-44d2-aebc-8d9cf30ca9de",
   "metadata": {},
   "source": [
    "# Méthode de Gauss"
   ]
  },
  {
   "cell_type": "code",
   "execution_count": 13,
   "id": "b41b2da0-7a95-47cd-aeeb-8fb8646118ec",
   "metadata": {},
   "outputs": [],
   "source": [
    "def triangulation_de_Gauss(A,b):\n",
    "    A=np.hstack((A,np.array([[i] for i in b])))\n",
    "    for i in range(A.shape[1]-2):\n",
    "        if A[:,i].all()==0:\n",
    "            continue\n",
    "        maxx=np.argmax(np.abs(A[i+1:,i]))+i+1\n",
    "        if np.abs(A[maxx,i])>A[i,i]:\n",
    "             A=genere_Tij(A.shape[0],maxx,i)@A\n",
    "        A=generation_M_second_way(A,i)[0]@A\n",
    "    b=A[:,A.shape[1]-1]\n",
    "    A=A[:,0:A.shape[1]-1]\n",
    "    return A,b"
   ]
  },
  {
   "cell_type": "code",
   "execution_count": 14,
   "id": "d527b2e4-fc11-4cf5-9b4e-7b61fed9e6f5",
   "metadata": {},
   "outputs": [
    {
     "data": {
      "text/plain": [
       "(array([[5.    , 4.    , 1.    ],\n",
       "        [0.    , 3.2   , 3.8   ],\n",
       "        [0.    , 0.    , 3.0625]]),\n",
       " array([1.   , 2.8  , 2.625]))"
      ]
     },
     "execution_count": 14,
     "metadata": {},
     "output_type": "execute_result"
    }
   ],
   "source": [
    "triangulation_de_Gauss(A,np.array([1,2,3]))"
   ]
  },
  {
   "cell_type": "code",
   "execution_count": 15,
   "id": "73196ae8-f1d1-4a13-976d-e86aa2ada470",
   "metadata": {},
   "outputs": [],
   "source": [
    "def resolution_de_Gauss(A,b):\n",
    "    return resol_superieur(A,b)"
   ]
  },
  {
   "cell_type": "code",
   "execution_count": 16,
   "id": "03239fdb-5e92-4e95-99f6-9647ea0480db",
   "metadata": {},
   "outputs": [
    {
     "data": {
      "text/plain": [
       "array([ 0.14285714, -0.14285714,  0.85714286])"
      ]
     },
     "execution_count": 16,
     "metadata": {},
     "output_type": "execute_result"
    }
   ],
   "source": [
    "a,c=triangulation_de_Gauss(A,np.array([1,2,3]))\n",
    "resolution_de_Gauss(a,c)"
   ]
  },
  {
   "cell_type": "code",
   "execution_count": 17,
   "id": "378f51f3-5c3e-4efa-a343-d8693e7ad090",
   "metadata": {},
   "outputs": [
    {
     "data": {
      "text/plain": [
       "array([1., 2., 3.])"
      ]
     },
     "execution_count": 17,
     "metadata": {},
     "output_type": "execute_result"
    }
   ],
   "source": [
    "A@resolution_de_Gauss(a,c)"
   ]
  },
  {
   "cell_type": "markdown",
   "id": "baea576f-b510-459d-a509-97e6a1b94253",
   "metadata": {},
   "source": [
    "# Decomposition LU"
   ]
  },
  {
   "cell_type": "code",
   "execution_count": 18,
   "id": "38af07b1-f48c-4a13-869e-53598c7fef96",
   "metadata": {},
   "outputs": [],
   "source": [
    "def resolut_decompostion_LU(A,b):\n",
    "    L=np.eye(A.shape[0])\n",
    "    for i in range(A.shape[1]-1):\n",
    "        u,l=generation_M_second_way(A,i)\n",
    "        A=u@A\n",
    "        L=L@l\n",
    "        y=resol_inferieur(L,b)\n",
    "        x=resol_superieur(A,y)\n",
    "    return x    "
   ]
  },
  {
   "cell_type": "code",
   "execution_count": 19,
   "id": "213457d7-8732-472a-a66c-a9176e855cd6",
   "metadata": {},
   "outputs": [
    {
     "data": {
      "text/plain": [
       "array([ 0.14285714, -0.14285714,  0.85714286])"
      ]
     },
     "execution_count": 19,
     "metadata": {},
     "output_type": "execute_result"
    }
   ],
   "source": [
    "res=resolut_decompostion_LU(A,np.array([1,2,3]))\n",
    "res"
   ]
  },
  {
   "cell_type": "code",
   "execution_count": 20,
   "id": "72c83821-ad3d-470c-85bd-3c5413f48a46",
   "metadata": {},
   "outputs": [
    {
     "data": {
      "text/plain": [
       "array([1., 2., 3.])"
      ]
     },
     "execution_count": 20,
     "metadata": {},
     "output_type": "execute_result"
    }
   ],
   "source": [
    "A@res"
   ]
  },
  {
   "cell_type": "markdown",
   "id": "c6bab85f-c0d0-42bf-b855-c0b5ae8c2c9a",
   "metadata": {},
   "source": [
    "# Methode Iterative"
   ]
  },
  {
   "cell_type": "code",
   "execution_count": 56,
   "id": "3d8075ad-8df7-484d-ba87-a7266dde1eac",
   "metadata": {},
   "outputs": [],
   "source": [
    "def jacobi(A,b,prec):\n",
    "    x_prec=np.zeros(len(b))\n",
    "    x_suiv=np.array([(b[i]-sum([A[i,j]*x_prec[j] for j in range(0,len(A)) if i !=j]))/A[i,i] for i in range(len(b))])\n",
    "    x=x_suiv-x_prec\n",
    "    x_prec=x_suiv\n",
    "    max_iter=0 #si la methode ne converge pas\n",
    "    while np.sqrt(np.abs(x.T@x))>prec and max_iter<1000:\n",
    "         x_suiv=np.array([(b[i]-sum([A[i,j]*x_prec[j] for j in range(0,len(A)) if i !=j]))/A[i,i] for i in range(len(b))])\n",
    "         x=x_suiv-x_prec\n",
    "         x_prec=x_suiv\n",
    "         max_iter=max_iter+1\n",
    "    return x_suiv"
   ]
  },
  {
   "cell_type": "code",
   "execution_count": 57,
   "id": "aa964004-14c4-441f-863a-ba4b879c422b",
   "metadata": {},
   "outputs": [
    {
     "data": {
      "text/plain": [
       "array([0.01199093, 0.60961451, 0.34147068])"
      ]
     },
     "execution_count": 57,
     "metadata": {},
     "output_type": "execute_result"
    }
   ],
   "source": [
    "mat=np.ones((3,3))\n",
    "for i in range(len(mat)):\n",
    "    mat[i,i]=5+i\n",
    "\n",
    "s=jacobi(mat,np.array([1,4,3]),0.01)\n",
    "s"
   ]
  },
  {
   "cell_type": "code",
   "execution_count": 58,
   "id": "d7737b2d-b447-4097-94cb-2207cfc84183",
   "metadata": {},
   "outputs": [
    {
     "data": {
      "text/plain": [
       "array([1.01103984, 4.01114869, 3.01190023])"
      ]
     },
     "execution_count": 58,
     "metadata": {},
     "output_type": "execute_result"
    }
   ],
   "source": [
    "mat@s"
   ]
  },
  {
   "cell_type": "markdown",
   "id": "c4e5ef5b-0651-4233-a588-2f5a05821fbf",
   "metadata": {},
   "source": [
    "# Les resultats de ma methode de jacobi me semble inconherents quelque soit la precision alors que je ne vois pas d'errer sur l'implementation de la methode"
   ]
  },
  {
   "cell_type": "code",
   "execution_count": 62,
   "id": "17303ec5-e225-4f84-8f02-3e04ff6b6017",
   "metadata": {},
   "outputs": [],
   "source": [
    "def gauss_sedal_and_relaxation(A,b,prec,alpha=1):\n",
    "    \"\"\"\n",
    "      Si alpha==1\n",
    "         la methode resoud l'equation avec la methode de gauss_sedal si apla=1\n",
    "      Sino\n",
    "         il le resoud avec la methode de la relaxation\n",
    "      \n",
    "    \"\"\"\n",
    "    x_prec=np.zeros(len(b))\n",
    "    x_suiv=np.zeros(len(b))\n",
    "    x_temp=np.zeros(len(b))\n",
    "    for i in range(len(b)):\n",
    "        x_suiv[i]=alpha*(b[i]-sum([A[i,j]*x_prec[j] if i<j else A[i,j]*x_temp[j] for j in range(0,len(A)) if i !=j]))/A[i,i]+(1-alpha)*x_prec[i]\n",
    "        x_temp[i]=x_suiv[i]\n",
    "        x=x_suiv-x_prec\n",
    "        x_prec=x_suiv\n",
    "    max_iter=0 #si la methode ne converge pas\n",
    "    x=x_suiv-x_prec\n",
    "    while(np.sqrt(np.abs(x.T@x))>prec) or max_iter<1000:\n",
    "        for i in range(len(b)):\n",
    "            x_suiv[i]=alpha*(b[i]-sum([A[i,j]*x_prec[j] if i<j else A[i,j]*x_temp[j] for j in range(0,len(A)) if i !=j]))/A[i,i]+(1-alpha)*x_prec[i]\n",
    "            x_temp[i]=x_suiv[i]\n",
    "            x=x_suiv-x_prec\n",
    "            x_prec=x_suiv\n",
    "            max_iter=max_iter+1\n",
    "    return x_suiv"
   ]
  },
  {
   "cell_type": "code",
   "execution_count": 63,
   "id": "2bd1ae40-3c42-408e-b789-58bee3f65d62",
   "metadata": {},
   "outputs": [
    {
     "data": {
      "text/plain": [
       "array([ 0.13402062, -0.09278351,  0.42268041])"
      ]
     },
     "execution_count": 63,
     "metadata": {},
     "output_type": "execute_result"
    }
   ],
   "source": [
    "s=gauss_sedal_and_relaxation(mat,np.array([1,0,3]),0.01)\n",
    "s"
   ]
  },
  {
   "cell_type": "code",
   "execution_count": 64,
   "id": "9021c52f-9879-460a-b893-2bad375f976f",
   "metadata": {},
   "outputs": [
    {
     "data": {
      "text/plain": [
       "array([1., 0., 3.])"
      ]
     },
     "execution_count": 64,
     "metadata": {},
     "output_type": "execute_result"
    }
   ],
   "source": [
    "mat@s"
   ]
  },
  {
   "cell_type": "markdown",
   "id": "55fecdea-d7d8-40fd-b97e-47b991ea31e0",
   "metadata": {},
   "source": [
    "# Implantez la méthode du calcul de l'inverse d'une matrice carrée A par \"double triangulation\", puis division des lignes par les éléments diagonaux."
   ]
  },
  {
   "cell_type": "code",
   "execution_count": 140,
   "id": "4c06eff5-cf69-4d88-8ccc-86a109ae2fb8",
   "metadata": {},
   "outputs": [],
   "source": [
    "def genere_sup(A):\n",
    "     Msup=[]\n",
    "     for i in range(A.shape[1]-1):\n",
    "        u=generation_M_second_way(A,i)[0]\n",
    "        A=u@A\n",
    "        Msup.append(u)\n",
    "     return A,Msup"
   ]
  },
  {
   "cell_type": "code",
   "execution_count": 142,
   "id": "9ec726da-2d67-4e2e-9daa-3b6cadac8936",
   "metadata": {},
   "outputs": [
    {
     "data": {
      "text/plain": [
       "array([[ 5. ,  4. ,  1. ],\n",
       "       [ 0. , -1.4,  1.4],\n",
       "       [ 0. ,  0. ,  7. ]])"
      ]
     },
     "execution_count": 142,
     "metadata": {},
     "output_type": "execute_result"
    }
   ],
   "source": [
    "genere_sup(A)[0]"
   ]
  },
  {
   "cell_type": "code",
   "execution_count": 98,
   "id": "b76221ed-beec-489c-9f53-91465a3bec66",
   "metadata": {},
   "outputs": [],
   "source": [
    "def generation_M_inf(A,r):\n",
    "    n=len(A)\n",
    "    M=np.eye(n)\n",
    "    for i in range(0,r):\n",
    "        M=M @ genere_Lrs_λ(n,i,r,-A[i,r]/A[r,r])\n",
    "    return M"
   ]
  },
  {
   "cell_type": "code",
   "execution_count": 156,
   "id": "81f1149c-2d7d-4b26-a20e-7f3e36851c9e",
   "metadata": {},
   "outputs": [],
   "source": [
    "def genere_inf(A):\n",
    "     Minf=[]\n",
    "     for i in range(len(A)-1,0,-1):\n",
    "        u=generation_M_inf(A,i)\n",
    "        A=u@A\n",
    "        Minf.append(u)\n",
    "     return A,Minf"
   ]
  },
  {
   "cell_type": "code",
   "execution_count": 244,
   "id": "c39546c0-06b1-4175-bf2a-5396f81cc4b3",
   "metadata": {},
   "outputs": [],
   "source": [
    "def calcul_inverse(A):\n",
    "    Minf=genere_inf(A)[1]\n",
    "    Msup=genere_sup(A)[1]\n",
    "    M1=np.eye(len(A))\n",
    "    M2=np.eye(len(A))\n",
    "    diag=genere_sup(genere_inf(A)[0])[0]\n",
    "    diag=np.where(np.abs(diag)<0.0001,0,diag) #precision de la macine\n",
    "    for i in range(len(diag)):\n",
    "        diag[i,i]= 1/diag[i,i] # inverse\n",
    "    for i in range(len(Minf)-1,-1,-1):\n",
    "         M1=M1@Minf[i]\n",
    "         M2=M2@Msup[i]\n",
    "    return diag@M2@M1"
   ]
  },
  {
   "cell_type": "code",
   "execution_count": 245,
   "id": "9cd9fca5-38e4-4396-a60b-c5761f2fa430",
   "metadata": {},
   "outputs": [
    {
     "data": {
      "text/plain": [
       "array([[ 1.00000000e+00,  0.00000000e+00,  0.00000000e+00],\n",
       "       [ 4.85000000e+00,  1.00000000e+00, -4.44089210e-16],\n",
       "       [-3.13392857e+00,  4.28571429e-01,  1.00000000e+00]])"
      ]
     },
     "execution_count": 245,
     "metadata": {},
     "output_type": "execute_result"
    }
   ],
   "source": [
    "calcul_inverse(A)@A"
   ]
  },
  {
   "cell_type": "code",
   "execution_count": 234,
   "id": "de313c3c-289a-4aab-8226-b419ec99ef00",
   "metadata": {},
   "outputs": [
    {
     "data": {
      "text/plain": [
       "array([[12.25,  0.  ,  0.  ],\n",
       "       [ 2.5 , -1.  ,  0.  ],\n",
       "       [ 1.  ,  4.  ,  4.  ]])"
      ]
     },
     "execution_count": 234,
     "metadata": {},
     "output_type": "execute_result"
    }
   ],
   "source": [
    "genere_inf(A)[0]"
   ]
  },
  {
   "cell_type": "code",
   "execution_count": 208,
   "id": "8a05a7bc-450b-462d-8028-b0f4a9ddb5d4",
   "metadata": {},
   "outputs": [
    {
     "data": {
      "text/plain": [
       "array([[ 0.08163265,  0.24489796, -0.14285714],\n",
       "       [ 0.20408163, -0.3877551 ,  0.14285714],\n",
       "       [-0.2244898 ,  0.32653061,  0.14285714]])"
      ]
     },
     "execution_count": 208,
     "metadata": {},
     "output_type": "execute_result"
    }
   ],
   "source": [
    "np.linalg.inv(A)"
   ]
  }
 ],
 "metadata": {
  "kernelspec": {
   "display_name": "Python 3 (ipykernel)",
   "language": "python",
   "name": "python3"
  },
  "language_info": {
   "codemirror_mode": {
    "name": "ipython",
    "version": 3
   },
   "file_extension": ".py",
   "mimetype": "text/x-python",
   "name": "python",
   "nbconvert_exporter": "python",
   "pygments_lexer": "ipython3",
   "version": "3.11.7"
  }
 },
 "nbformat": 4,
 "nbformat_minor": 5
}
