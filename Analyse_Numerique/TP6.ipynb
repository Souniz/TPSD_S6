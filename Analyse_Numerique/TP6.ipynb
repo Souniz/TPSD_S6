{
 "cells": [
  {
   "cell_type": "code",
   "execution_count": 125,
   "id": "37b9cdbe-1440-4ec9-a497-ab1f33483a6c",
   "metadata": {},
   "outputs": [],
   "source": [
    "import numpy as np\n",
    "import scipy.linalg as sc\n",
    "import warnings\n",
    "warnings.filterwarnings(\"ignore\")"
   ]
  },
  {
   "cell_type": "markdown",
   "id": "52b0e832-16bf-46e7-bcce-1b24c01f36e1",
   "metadata": {},
   "source": [
    "Résolution de Ax=b avec A une matrice carrée n×n et b∈Rn\n",
    "\n",
    "    Résolution d'un système linéaire triangulaire\n",
    "        supérieur\n",
    "        inférieur\n",
    "    Méthode de Gauss\n",
    "        Méthode de triangulation de Gauss\n",
    "        Appel à la résolution\n",
    "    Résolution par décomposition LU\n",
    "        Décomposition LU de la matrice A\n",
    "        Résolution du système initial par la résolution de deux système triangulaires (supérieur et inférieur)\n",
    "    Méthodes itératives\n",
    "    Si vous avez le temps, vous écrirez les méthodes par calcul des éléments de xi\n",
    "\n",
    "    et également l'écriture matricielle.\n",
    "        Méthode de Jabobi\n",
    "        Méthode de Gauss-Seidel\n",
    "        Méthode de relaxation\n",
    "\n",
    "Implantez la méthode du calcul de l'inverse d'une matrice carrée A\n",
    "par \"double triangulation\", puis division des lignes par les éléments diagonaux."
   ]
  },
  {
   "cell_type": "code",
   "execution_count": 127,
   "id": "deaafc95-18b6-4cbf-9290-52904e1c89d4",
   "metadata": {},
   "outputs": [],
   "source": [
    "def genere_Tij(n,i,j):\n",
    "    A=np.eye(n)\n",
    "    A[[i,j]]=A[[j,i]]\n",
    "    return A"
   ]
  },
  {
   "cell_type": "code",
   "execution_count": 129,
   "id": "0647f0ec-1266-4960-aeeb-b33a9e7ff976",
   "metadata": {},
   "outputs": [],
   "source": [
    "def genere_Lrs_λ(n,r,s,λ):\n",
    "    A=np.eye(n)\n",
    "    A[r,s]def generation_M_first_way(A,r):\n",
    "    M=np.eye(len(A))\n",
    "    M[r+1:,r]=-A[r+1:,r]/A[r,r]\n",
    "    return M=λ\n",
    "    return A"
   ]
  },
  {
   "cell_type": "code",
   "execution_count": 130,
   "id": "69dbc5c9-f0f1-46bb-80fa-c803be93d3ee",
   "metadata": {},
   "outputs": [],
   "source": [
    "def generation_M_first_way(A,r):\n",
    "    M=np.eye(len(A))\n",
    "    M[r+1:,r]=-A[r+1:,r]/A[r,r]\n",
    "    return M"
   ]
  },
  {
   "cell_type": "markdown",
   "id": "bc31d279-d108-4cdb-9180-8d306fc58ab1",
   "metadata": {},
   "source": [
    "## 1) Résolution de Ax=b avec A une matrice carrée n×n et b∈Rn"
   ]
  },
  {
   "cell_type": "markdown",
   "id": "5765d7f0-f259-4719-884d-573103c16146",
   "metadata": {},
   "source": [
    "## Résolution d'un système linéaire triangulaire"
   ]
  },
  {
   "cell_type": "code",
   "execution_count": 100,
   "id": "7c69cf12-658b-4745-b2b8-90759bd96fcc",
   "metadata": {},
   "outputs": [],
   "source": [
    "def resol_superieur(A,b):\n",
    "    n=A.shape[0]\n",
    "    x=np.zeros(n)\n",
    "    n=n-1\n",
    "    x[n]=b[n]/A[n,n]\n",
    "    for i in range(n-1,-1,-1):\n",
    "        x[i]=(b[i]-sum(A[i,i+1:]*x[i+1:]))/A[i,i]\n",
    "    return x"
   ]
  },
  {
   "cell_type": "code",
   "execution_count": 59,
   "id": "1b7a9a1b-489d-44e4-9a23-74606a0374a1",
   "metadata": {},
   "outputs": [],
   "source": [
    "A=np.random.randint(1,6,(3,3))"
   ]
  },
  {
   "cell_type": "code",
   "execution_count": 73,
   "id": "1fc008e7-41ea-44e9-9fe2-fcdeadc0e853",
   "metadata": {},
   "outputs": [
    {
     "data": {
      "text/plain": [
       "array([[5.   , 2.   , 3.   ],\n",
       "       [0.   , 3.2  , 2.8  ],\n",
       "       [0.   , 0.   , 1.625]])"
      ]
     },
     "execution_count": 73,
     "metadata": {},
     "output_type": "execute_result"
    }
   ],
   "source": [
    "l,u=sc.decomp_lu.lu(A)[1:3]\n",
    "u"
   ]
  },
  {
   "cell_type": "code",
   "execution_count": 101,
   "id": "4ae83915-9e8e-415d-af46-dd838e9c0455",
   "metadata": {},
   "outputs": [
    {
     "data": {
      "text/plain": [
       "array([ 0.38269231,  1.38942308, -1.23076923])"
      ]
     },
     "execution_count": 101,
     "metadata": {},
     "output_type": "execute_result"
    }
   ],
   "source": [
    "resol_superieur(u,np.array([1,1,-2]))"
   ]
  },
  {
   "cell_type": "code",
   "execution_count": 122,
   "id": "ca59b33d-3fe8-4bb5-829b-14b38472d070",
   "metadata": {},
   "outputs": [
    {
     "data": {
      "text/plain": [
       "array([ 1.00000002,  1.00000001, -2.        ])"
      ]
     },
     "execution_count": 122,
     "metadata": {},
     "output_type": "execute_result"
    }
   ],
   "source": [
    "u@np.array([ 0.38269231,  1.38942308, -1.23076923])"
   ]
  },
  {
   "cell_type": "code",
   "execution_count": 119,
   "id": "a2000112-510a-4360-ade9-967fb0310d9e",
   "metadata": {},
   "outputs": [],
   "source": [
    "def resol_inferieur(A,b):\n",
    "    n=A.shape[0]\n",
    "    x=np.zeros(n)\n",
    "    x[0]=b[0]/A[0,0]\n",
    "    for i in range(1,n):\n",
    "        x[i]=(b[i]-sum(A[i,0:i]*x[0:i]))/A[i,i]\n",
    "    return x"
   ]
  },
  {
   "cell_type": "code",
   "execution_count": 120,
   "id": "6d1fce7b-bbab-4ada-ab0c-6c5f2f1fb735",
   "metadata": {},
   "outputs": [
    {
     "data": {
      "text/plain": [
       "array([ 1.    ,  0.6   , -2.9375])"
      ]
     },
     "execution_count": 120,
     "metadata": {},
     "output_type": "execute_result"
    }
   ],
   "source": [
    "resol_inferieur(l,np.array([1,1,-2]))"
   ]
  },
  {
   "cell_type": "code",
   "execution_count": 121,
   "id": "978f3e27-065c-460f-bf4e-bc9ae26ed5a8",
   "metadata": {},
   "outputs": [
    {
     "data": {
      "text/plain": [
       "array([ 1.,  1., -2.])"
      ]
     },
     "execution_count": 121,
     "metadata": {},
     "output_type": "execute_result"
    }
   ],
   "source": [
    "l@np.array([ 1.,0.6, -2.9375])"
   ]
  },
  {
   "cell_type": "code",
   "execution_count": 201,
   "id": "bd215037-7ff4-4ac6-be14-be730278b45d",
   "metadata": {},
   "outputs": [
    {
     "data": {
      "text/plain": [
       "array([[2, 4, 4],\n",
       "       [3, 3, 5],\n",
       "       [5, 2, 3]])"
      ]
     },
     "execution_count": 201,
     "metadata": {},
     "output_type": "execute_result"
    }
   ],
   "source": [
    "A"
   ]
  },
  {
   "cell_type": "code",
   "execution_count": 202,
   "id": "86167c5c-71c8-461c-83cd-cce6ae62fec2",
   "metadata": {},
   "outputs": [],
   "source": [
    "A2=A.copy()"
   ]
  },
  {
   "cell_type": "markdown",
   "id": "5c381af1-520c-44d2-aebc-8d9cf30ca9de",
   "metadata": {},
   "source": [
    "# Méthode de Gauss"
   ]
  },
  {
   "cell_type": "code",
   "execution_count": 214,
   "id": "b41b2da0-7a95-47cd-aeeb-8fb8646118ec",
   "metadata": {},
   "outputs": [],
   "source": [
    "def triangulation_de_Gauss(A,b):\n",
    "    for i in range(A.shape[1]-1):\n",
    "        max=np.argmax(A[i:,i])+1+i\n",
    "        if A[max,i]>A[i,i]:\n",
    "             A=genere_Tij(A.shape[0],max,i)@A\n",
    "             b=genere_Tij(b.shape[0],max,i)@b\n",
    "        A=generation_M_first_way(A,i)@A\n",
    "        b=generation_M_first_way(A,i)@b\n",
    "    return A,b"
   ]
  },
  {
   "cell_type": "code",
   "execution_count": 213,
   "id": "d527b2e4-fc11-4cf5-9b4e-7b61fed9e6f5",
   "metadata": {},
   "outputs": [
    {
     "ename": "IndexError",
     "evalue": "index 3 is out of bounds for axis 0 with size 3",
     "output_type": "error",
     "traceback": [
      "\u001b[0;31m---------------------------------------------------------------------------\u001b[0m",
      "\u001b[0;31mIndexError\u001b[0m                                Traceback (most recent call last)",
      "\u001b[0;32m/tmp/ipykernel_9963/3193530802.py\u001b[0m in \u001b[0;36m<cell line: 1>\u001b[0;34m()\u001b[0m\n\u001b[0;32m----> 1\u001b[0;31m \u001b[0mtriangulation_de_Gauss\u001b[0m\u001b[0;34m(\u001b[0m\u001b[0mA\u001b[0m\u001b[0;34m,\u001b[0m\u001b[0mnp\u001b[0m\u001b[0;34m.\u001b[0m\u001b[0marray\u001b[0m\u001b[0;34m(\u001b[0m\u001b[0;34m[\u001b[0m\u001b[0;36m1\u001b[0m\u001b[0;34m,\u001b[0m\u001b[0;36m2\u001b[0m\u001b[0;34m,\u001b[0m\u001b[0;36m3\u001b[0m\u001b[0;34m]\u001b[0m\u001b[0;34m)\u001b[0m\u001b[0;34m)\u001b[0m\u001b[0;34m\u001b[0m\u001b[0;34m\u001b[0m\u001b[0m\n\u001b[0m",
      "\u001b[0;32m/tmp/ipykernel_9963/2237361910.py\u001b[0m in \u001b[0;36mtriangulation_de_Gauss\u001b[0;34m(A, b)\u001b[0m\n\u001b[1;32m      2\u001b[0m     \u001b[0;32mfor\u001b[0m \u001b[0mi\u001b[0m \u001b[0;32min\u001b[0m \u001b[0mrange\u001b[0m\u001b[0;34m(\u001b[0m\u001b[0mA\u001b[0m\u001b[0;34m.\u001b[0m\u001b[0mshape\u001b[0m\u001b[0;34m[\u001b[0m\u001b[0;36m1\u001b[0m\u001b[0;34m]\u001b[0m\u001b[0;34m-\u001b[0m\u001b[0;36m1\u001b[0m\u001b[0;34m)\u001b[0m\u001b[0;34m:\u001b[0m\u001b[0;34m\u001b[0m\u001b[0;34m\u001b[0m\u001b[0m\n\u001b[1;32m      3\u001b[0m         \u001b[0mmax\u001b[0m\u001b[0;34m=\u001b[0m\u001b[0mnp\u001b[0m\u001b[0;34m.\u001b[0m\u001b[0margmax\u001b[0m\u001b[0;34m(\u001b[0m\u001b[0mA\u001b[0m\u001b[0;34m[\u001b[0m\u001b[0mi\u001b[0m\u001b[0;34m:\u001b[0m\u001b[0;34m,\u001b[0m\u001b[0mi\u001b[0m\u001b[0;34m]\u001b[0m\u001b[0;34m)\u001b[0m\u001b[0;34m+\u001b[0m\u001b[0;36m1\u001b[0m\u001b[0;34m+\u001b[0m\u001b[0mi\u001b[0m\u001b[0;34m\u001b[0m\u001b[0;34m\u001b[0m\u001b[0m\n\u001b[0;32m----> 4\u001b[0;31m         \u001b[0;32mif\u001b[0m \u001b[0mA\u001b[0m\u001b[0;34m[\u001b[0m\u001b[0mmax\u001b[0m\u001b[0;34m,\u001b[0m\u001b[0mi\u001b[0m\u001b[0;34m]\u001b[0m\u001b[0;34m>\u001b[0m\u001b[0mA\u001b[0m\u001b[0;34m[\u001b[0m\u001b[0mi\u001b[0m\u001b[0;34m,\u001b[0m\u001b[0mi\u001b[0m\u001b[0;34m]\u001b[0m\u001b[0;34m:\u001b[0m\u001b[0;34m\u001b[0m\u001b[0;34m\u001b[0m\u001b[0m\n\u001b[0m\u001b[1;32m      5\u001b[0m              \u001b[0mA\u001b[0m\u001b[0;34m=\u001b[0m\u001b[0mgenere_Tij\u001b[0m\u001b[0;34m(\u001b[0m\u001b[0mA\u001b[0m\u001b[0;34m.\u001b[0m\u001b[0mshape\u001b[0m\u001b[0;34m[\u001b[0m\u001b[0;36m0\u001b[0m\u001b[0;34m]\u001b[0m\u001b[0;34m,\u001b[0m\u001b[0mmax\u001b[0m\u001b[0;34m,\u001b[0m\u001b[0mi\u001b[0m\u001b[0;34m)\u001b[0m\u001b[0;34m@\u001b[0m\u001b[0mA\u001b[0m\u001b[0;34m\u001b[0m\u001b[0;34m\u001b[0m\u001b[0m\n\u001b[1;32m      6\u001b[0m              \u001b[0mb\u001b[0m\u001b[0;34m=\u001b[0m\u001b[0mgenere_Tij\u001b[0m\u001b[0;34m(\u001b[0m\u001b[0mb\u001b[0m\u001b[0;34m.\u001b[0m\u001b[0mshape\u001b[0m\u001b[0;34m[\u001b[0m\u001b[0;36m0\u001b[0m\u001b[0;34m]\u001b[0m\u001b[0;34m,\u001b[0m\u001b[0mmax\u001b[0m\u001b[0;34m,\u001b[0m\u001b[0mi\u001b[0m\u001b[0;34m)\u001b[0m\u001b[0;34m@\u001b[0m\u001b[0mb\u001b[0m\u001b[0;34m\u001b[0m\u001b[0;34m\u001b[0m\u001b[0m\n",
      "\u001b[0;31mIndexError\u001b[0m: index 3 is out of bounds for axis 0 with size 3"
     ]
    }
   ],
   "source": [
    "triangulation_de_Gauss(A,np.array([1,2,3]))"
   ]
  },
  {
   "cell_type": "code",
   "execution_count": 209,
   "id": "73196ae8-f1d1-4a13-976d-e86aa2ada470",
   "metadata": {},
   "outputs": [],
   "source": [
    "def resolution_de_Gauss(A,b):\n",
    "    return resol_superieur(A,b)"
   ]
  },
  {
   "cell_type": "code",
   "execution_count": 210,
   "id": "03239fdb-5e92-4e95-99f6-9647ea0480db",
   "metadata": {},
   "outputs": [
    {
     "data": {
      "text/plain": [
       "array([ 0.11709402,  1.72649573, -0.34615385])"
      ]
     },
     "execution_count": 210,
     "metadata": {},
     "output_type": "execute_result"
    }
   ],
   "source": [
    "a,c=triangulation_de_Gauss(A,np.array([1,2,3]))\n",
    "resolution_de_Gauss(a,c)"
   ]
  },
  {
   "cell_type": "code",
   "execution_count": 211,
   "id": "378f51f3-5c3e-4efa-a343-d8693e7ad090",
   "metadata": {},
   "outputs": [
    {
     "data": {
      "text/plain": [
       "array([5.75555556, 3.8       , 3.00000001])"
      ]
     },
     "execution_count": 211,
     "metadata": {},
     "output_type": "execute_result"
    }
   ],
   "source": [
    "A2@np.array([ 0.11709402,  1.72649573, -0.34615385])"
   ]
  },
  {
   "cell_type": "code",
   "execution_count": null,
   "id": "07fc7c1f-a97e-4f63-8241-f6fa50148141",
   "metadata": {},
   "outputs": [],
   "source": []
  },
  {
   "cell_type": "code",
   "execution_count": null,
   "id": "38af07b1-f48c-4a13-869e-53598c7fef96",
   "metadata": {},
   "outputs": [],
   "source": []
  },
  {
   "cell_type": "code",
   "execution_count": null,
   "id": "213457d7-8732-472a-a66c-a9176e855cd6",
   "metadata": {},
   "outputs": [],
   "source": []
  },
  {
   "cell_type": "code",
   "execution_count": null,
   "id": "c3572a08-e6e7-4b9d-8184-f658378d4e7e",
   "metadata": {},
   "outputs": [],
   "source": []
  },
  {
   "cell_type": "code",
   "execution_count": null,
   "id": "3d8075ad-8df7-484d-ba87-a7266dde1eac",
   "metadata": {},
   "outputs": [],
   "source": []
  },
  {
   "cell_type": "code",
   "execution_count": null,
   "id": "aa964004-14c4-441f-863a-ba4b879c422b",
   "metadata": {},
   "outputs": [],
   "source": []
  },
  {
   "cell_type": "code",
   "execution_count": null,
   "id": "b71ced07-9dab-4a71-8418-7fcad0d50643",
   "metadata": {},
   "outputs": [],
   "source": []
  },
  {
   "cell_type": "code",
   "execution_count": null,
   "id": "537d1349-b3cf-4237-9fa6-d6608be045ce",
   "metadata": {},
   "outputs": [],
   "source": []
  },
  {
   "cell_type": "code",
   "execution_count": null,
   "id": "17303ec5-e225-4f84-8f02-3e04ff6b6017",
   "metadata": {},
   "outputs": [],
   "source": []
  },
  {
   "cell_type": "code",
   "execution_count": null,
   "id": "2bd1ae40-3c42-408e-b789-58bee3f65d62",
   "metadata": {},
   "outputs": [],
   "source": []
  },
  {
   "cell_type": "code",
   "execution_count": null,
   "id": "9021c52f-9879-460a-b893-2bad375f976f",
   "metadata": {},
   "outputs": [],
   "source": []
  },
  {
   "cell_type": "code",
   "execution_count": null,
   "id": "3d6f821d-ca1d-4e17-aa63-583a1bf81403",
   "metadata": {},
   "outputs": [],
   "source": []
  },
  {
   "cell_type": "code",
   "execution_count": 44,
   "id": "4c06eff5-cf69-4d88-8ccc-86a109ae2fb8",
   "metadata": {},
   "outputs": [
    {
     "ename": "NameError",
     "evalue": "name 'n' is not defined",
     "output_type": "error",
     "traceback": [
      "\u001b[0;31m---------------------------------------------------------------------------\u001b[0m",
      "\u001b[0;31mNameError\u001b[0m                                 Traceback (most recent call last)",
      "\u001b[0;32m/tmp/ipykernel_9963/2490694699.py\u001b[0m in \u001b[0;36m<cell line: 6>\u001b[0;34m()\u001b[0m\n\u001b[1;32m      4\u001b[0m     \u001b[0mI\u001b[0m\u001b[0;34m[\u001b[0m\u001b[0ms\u001b[0m\u001b[0;34m+\u001b[0m\u001b[0;36m1\u001b[0m\u001b[0;34m:\u001b[0m\u001b[0;34m,\u001b[0m\u001b[0ms\u001b[0m\u001b[0;34m]\u001b[0m\u001b[0;34m=\u001b[0m\u001b[0;34m-\u001b[0m\u001b[0mA\u001b[0m\u001b[0;34m[\u001b[0m\u001b[0ms\u001b[0m\u001b[0;34m+\u001b[0m\u001b[0;36m1\u001b[0m\u001b[0;34m:\u001b[0m\u001b[0;34m,\u001b[0m\u001b[0ms\u001b[0m\u001b[0;34m]\u001b[0m\u001b[0;34m/\u001b[0m\u001b[0mA\u001b[0m\u001b[0;34m[\u001b[0m\u001b[0ms\u001b[0m\u001b[0;34m,\u001b[0m\u001b[0ms\u001b[0m\u001b[0;34m]\u001b[0m\u001b[0;34m\u001b[0m\u001b[0;34m\u001b[0m\u001b[0m\n\u001b[1;32m      5\u001b[0m     \u001b[0;32mreturn\u001b[0m \u001b[0mI\u001b[0m\u001b[0;34m\u001b[0m\u001b[0;34m\u001b[0m\u001b[0m\n\u001b[0;32m----> 6\u001b[0;31m \u001b[0;32mfor\u001b[0m \u001b[0ms\u001b[0m \u001b[0;32min\u001b[0m \u001b[0mrange\u001b[0m\u001b[0;34m(\u001b[0m\u001b[0mn\u001b[0m\u001b[0;34m-\u001b[0m\u001b[0;36m1\u001b[0m\u001b[0;34m)\u001b[0m\u001b[0;34m:\u001b[0m\u001b[0;34m\u001b[0m\u001b[0;34m\u001b[0m\u001b[0m\n\u001b[0m\u001b[1;32m      7\u001b[0m     \u001b[0mA\u001b[0m\u001b[0;34m=\u001b[0m\u001b[0mM\u001b[0m\u001b[0;34m(\u001b[0m\u001b[0mA\u001b[0m\u001b[0;34m,\u001b[0m\u001b[0ms\u001b[0m\u001b[0;34m)\u001b[0m\u001b[0;34m@\u001b[0m\u001b[0mA\u001b[0m\u001b[0;34m\u001b[0m\u001b[0;34m\u001b[0m\u001b[0m\n\u001b[1;32m      8\u001b[0m     \u001b[0mprint\u001b[0m\u001b[0;34m(\u001b[0m\u001b[0mA\u001b[0m\u001b[0;34m)\u001b[0m\u001b[0;34m\u001b[0m\u001b[0;34m\u001b[0m\u001b[0m\n",
      "\u001b[0;31mNameError\u001b[0m: name 'n' is not defined"
     ]
    }
   ],
   "source": [
    "def M(A,s):\n",
    "    n=A.shape[0]\n",
    "    I=np.eye(n)\n",
    "    I[s+1:,s]=-A[s+1:,s]/A[s,s]\n",
    "    return I\n",
    "for s in range(n-1):\n",
    "    A=M(A,s)@A\n",
    "    print(A)"
   ]
  },
  {
   "cell_type": "code",
   "execution_count": null,
   "id": "c0c50fa9-0178-4221-9036-766140ecfeac",
   "metadata": {},
   "outputs": [],
   "source": []
  }
 ],
 "metadata": {
  "kernelspec": {
   "display_name": "Python 3 (ipykernel)",
   "language": "python",
   "name": "python3"
  },
  "language_info": {
   "codemirror_mode": {
    "name": "ipython",
    "version": 3
   },
   "file_extension": ".py",
   "mimetype": "text/x-python",
   "name": "python",
   "nbconvert_exporter": "python",
   "pygments_lexer": "ipython3",
   "version": "3.10.12"
  }
 },
 "nbformat": 4,
 "nbformat_minor": 5
}
