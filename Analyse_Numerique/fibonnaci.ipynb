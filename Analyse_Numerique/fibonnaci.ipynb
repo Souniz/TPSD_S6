{
 "cells": [
  {
   "cell_type": "code",
   "execution_count": 1,
   "id": "a4810234-6f8b-46ba-a613-43201889f852",
   "metadata": {},
   "outputs": [],
   "source": [
    "import numpy as np"
   ]
  },
  {
   "cell_type": "code",
   "execution_count": 2,
   "id": "bec93ab2-4dc9-43b0-8cfa-f2c8e2e1e5a5",
   "metadata": {},
   "outputs": [],
   "source": [
    "memory=np.array([1,1])\n",
    "def fibonnaci(n):\n",
    "    global memory\n",
    "    if len(memory)>n:\n",
    "        return memory[n]\n",
    "    v=fibonnaci(n-1)+fibonnaci(n-2)\n",
    "    memory=np.append(memory,v)\n",
    "    return v"
   ]
  }
 ],
 "metadata": {
  "kernelspec": {
   "display_name": "Python 3 (ipykernel)",
   "language": "python",
   "name": "python3"
  },
  "language_info": {
   "codemirror_mode": {
    "name": "ipython",
    "version": 3
   },
   "file_extension": ".py",
   "mimetype": "text/x-python",
   "name": "python",
   "nbconvert_exporter": "python",
   "pygments_lexer": "ipython3",
   "version": "3.10.12"
  }
 },
 "nbformat": 4,
 "nbformat_minor": 5
}
