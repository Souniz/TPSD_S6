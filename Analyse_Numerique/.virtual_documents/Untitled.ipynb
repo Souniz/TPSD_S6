import numpy as np


memory=np.array([1,1])
def fibonnaci(n):
    global memory
    if len(memory)>n:
        return memory[n]
    v=fibonnaci(n-1)+fibonnaci(n-2)
    memory=np.append(memory,v)
    return v
