import numpy as np
import matplotlib.pyplot as plt
import pandas as plt
import scipy.optimize as sc





def calcul_dichotomie(a,b,funct,p):
    
    i=0
    while np.abs(a-b)>p :
        i=i+1
        x=(a+b)/2
        if funct(a)*funct(x)<0:
             b=x
        else:
           a=x
    return x,i


calcul_dichotomie(0,1,lambda x:np.exp(-x/10)-x,10**-3)


sc.bisect(lambda x:np.exp(-x/10)-x,0,1,xtol=10**-3)


calcul_dichotomie(4,5,lambda x:x**3/3-2*x**2+3*x-5/2,10**-3)


calcul_dichotomie(-4,1,lambda x:2*x+1,10**-3)


sc.bisect(lambda x:2*x+1,-4,1,xtol=10**-3)


def calcul_lagrange(a,b,funct,p): 
    i=0
    while np.abs(a-b)>p :
        i=i+1
        x=a-(a-b)/(funct(a)-funct(b))*funct(a)
        if funct(a)*funct(x)<0:
             b=x
        else:
           a=x
    return x,i


calcul_lagrange(-4,1,lambda x:2*x+1,10**-3)
