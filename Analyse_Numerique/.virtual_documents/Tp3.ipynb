


import numpy as np
import matplotlib.pyplot as plt


def interple(points,absci):
     res=[]
     x=np.array([i[0] for i in points])
     y=np.array([i[1] for i in points])
     for p in absci:
         s=np.array([np.prod([(p-j)/(i-j) for j in x if j!=i]) for i in x])
         res.append(sum(y*s))
     return res


interple([(-1,0),(0,0),(1,2)],[-1,0,1])


x=np.linspace(-2*np.pi,2*np.pi,100)
plt.Figure(figsize=(12,8))
plt.plot(x,np.cos(x))
x=np.random.rand(4)*2*np.pi
y=interple([(np.pi,-1),(0,1),(np.pi/4,np.sqrt(2)/2),(np.pi/3,0.5)],x)
plt.scatter(x,y,color='red')
plt.show()


def interple(points,absci):
    
