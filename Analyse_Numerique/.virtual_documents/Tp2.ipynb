import numpy as np
import matplotlib.pyplot as plt
import pandas as plt
import scipy.optimize as sc





def calcul_dichotomie(a,b,funct,p):
    a,b=min(a,b),max(a,b)
    x,y=a,b
    i=0
    while np.abs(a-b)>p :
        i=i+1
        m=(a+b)/2
        (a,b)=(a,m) if funct(a)*funct(m)<0 else (b,m)
    return [x,y],m,i


calcul_dichotomie(0,1,lambda x:np.exp(-x/10)-x,10**-3)


calcul_dichotomie(0,1,lambda x:np.exp(-x/10)-x,10**-6)





calcul_dichotomie(0,1,lambda x:np.exp(-x/10)-x,10**-3)


calcul_dichotomie(0,10,lambda x:np.exp(-x/10)-x,10**-3)








def calcul_lagrange(a,b,funct,p): 
    i=0
    while np.abs(a-b)>p :
        i=i+1
        x=a-(a-b)/(funct(a)-funct(b))*funct(a)
        (a,b)=(a,x) if funct(a)*funct(x)<0 else (b,x)
    return x,i





def method_secante(a,b,funct,p): 
    a,b = min(a, b), max(a,b)
    i=1
    while np.abs(a-b)>p:
        xo=b
        b=b-(b-a)/(funct(b)-funct(a))*funct(b)
        a=xo
        i=i+1
    return b,i





def methode_newtone(a,b,funct,p,derive=None):
    x=(a+b)/2
    i=1
    if derive==None:
        derive=lambda s:(funct(s+10**-3)-funct(s-10**-3))/(2*1e-3)
    while np.abs(x-b)>p:
        b=x
        x=x-funct(x)/derive(x)
        i=i+1
    return x,i


calcul_dichotomie(0,1,lambda x:np.exp(-x/10)-x,10**-3)


sc.bisect(lambda x:np.exp(-x/10)-x,0,1,xtol=10**-3)


sc.bisect(lambda x:x**3/3-2*x**2+3*x-5/2,4,5,xtol=10**-3)


calcul_dichotomie(-4,1,lambda x:2*x+1,10**-3)


sc.bisect(lambda x:2*x+1,-4,1,xtol=10**-3)


calcul_lagrange(0,1,lambda x:np.exp(-x/10)-x,10**-5)


method_secante(0,1,lambda x:np.exp(-x/10)-x,10**-5)


methode_newtone(0,1,lambda x:np.exp(-x/10)-x,10**-5)


methode_newtone(4,5,lambda x:x**3/3-2*x**2+3*x-5/2,10**-3)


sc.newton(lambda x:x**3/3-2*x**2+3*x-5/2,4)


sc.root_scalarar(lambda x:x**3/3-2*x**2+3*x-5/2,4)
