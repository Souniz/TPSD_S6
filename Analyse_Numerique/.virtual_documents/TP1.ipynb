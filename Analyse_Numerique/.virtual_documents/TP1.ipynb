import numpy as np
import matplotlib.pyplot as plt
import pandas as pd





def approximation_pi_sur_4_nb_iterat(nb:int):
    """ nb:nombre d'iteration
    """
    s=0
    for i in range(nb):
        s=s+(2/((4*i+1)*(4*i+3)))
    return s


approximation_pi_sur_4_nb_iterat(100000)


#Je calcule les erreurs des nombres d'iterations
nbIterations=[i for i in range(1000,10000,1000)]
Errer=[(np.pi/4)-approximation_pi_sur_4_nb_iterat(i) for i in nbIterations]


plt.figure(figsize=(9,4))
plt.plot(nbIterations,Errer)Plus
plt.xlabel('Nombre d iterations')
plt.ylabel('Difference entre la valeur de numpy et la valeur calcule')








def approximation_pi_sur_4_avec_precison(p):
    """ p:precision
    """
    s=0
    r=2/3
    i=0
    while r>p:
        i=i+1
        s=s+r
        r=(2/((4*i+1)*(4*i+3)))
    return s,i


approximation_pi_sur_4_avec_precison(10**(-11))[0]


np.pi/4


def approximat_pi_sur_4_amelior(p):
    l=[(-1)**i/(2*i+1) for i in range(int((1-p)/(2*p))+1)]
    return sum(l),len(l)


approximat_pi_sur_4_amelior(10**(-5))[0]


precisions=[10**-i for i in range(1,15)]
nbIteration=[approximation_pi_sur_4_avec_precison(i)[1] for i in precisions]


ax = plt.gca()
ax.set_xscale('log')
ax.set_yscale('log')
plt.plot(nbIteration,precisions)
plt.xlabel('Nombre d iteration')
plt.ylabel('La precision')





errer=[np.pi/4-approximation_pi_sur_4_avec_precison(i)[0] for i in precisions]
ax = plt.gca()
ax.set_xscale('log')
ax.set_yscale('log')
plt.plot(precisions,errer)
plt.xlabel('Precision')
plt.ylabel('Errer')





df=pd.DataFrame(columns=['precision','NbreIteration','Errer'])
for i in range(0,len(precisions)):
    val=approximation_pi_sur_4_avec_precison(precisions[i])
    errer=(np.pi/4)-val[0]
    df.loc[i]=[precisions[i],val[1],errer]
df


df.corr()








def approximation_pi_sur_2(nb:int):
    """ nb:nombre d'iteration
    """
    s=1
    for i in range(100):
        s=s+(8/((4*i+1)*(4*i+3)*(4*i+5)))
    return s


for i in range(1000,10000,1000):
    print(approximation_pi_sur_2(10000))


np.pi/2


def approximation_pi_sur_4_avec_precison(p):
    """ p:precision
    """
    s=1
    r=4/3
    i=1
    while r-1>p:
        i=i+1
        s=s*r
        r=(4*i**2)/(4*i**2-1)
    return s,i


approximation_pi_sur_4_avec_precison(10**-14)


precisions_2=[10**-i for i in range(1,10)]
nbIteration_2=[approximation_pi_sur_4_avec_precison(i)[1] for i in precisions_2]
ax = plt.gca()
ax.set_xscale('log')
ax.set_yscale('log')
plt.plot(nbIteration_2,precisions_2)
plt.xlabel('Nombre d iteration')
plt.ylabel('La precision')
plt.title("pi/2")








def factoriel_itera(n):
    return np.prod(range(1,n+1))


factoriel_itera(5)





def factoriel_recur(n):
    return n*factoriel_recur(n-1) if n>1 else 1


factoriel_recur(5)





s1,s2=(0,0)
for i in range(1,6001):
    s1=s1+1/i
    s2=s2+1/(6001-i)
s1,s2








def calcul_cos_x(x,n):
    return sum([(-1)**i*x**(2*i)/factoriel_recur(2*i) for i in range(n)])


nbit=[i for i in range(1,10)]
errer=[np.abs(np.cos(np.pi/3)-calcul_cos_x(np.pi/3,i)) for i in nbit]
plt.plot(nbit,errer)
plt.xlabel("Nombre d'iteration")
plt.ylabel("Erreur")








def calcul_cos_x_recur(x,p):
    s=1
    t=1
    i=0
    while np.abs(t)>p:
        t=-t*x*x/((2*i+1)*(2*i+2))
        i=i+1
        s=s+t
    return s,i


calcul_cos_x_recur(4,10**-10)


np.cos(4)


precision=[10**-i for i in range(1,50)]
iteration=[calcul_cos_x_recur(np.pi/4,i)[1] for i in precision]
plt.plot(iteration,precision)
# axe=plt.gca()

plt.xlabel("Nombre d'iteration")
plt.ylabel("Precision")


x=np.linspace(-np.pi,np.pi,100)
coss=[calcul_cos_x_recur(i,10**-4)[0] for i in x]
plt.Figure(figsize=(16,4))
plt.plot(x,np.cos(x))
plt.plot(x,coss)



