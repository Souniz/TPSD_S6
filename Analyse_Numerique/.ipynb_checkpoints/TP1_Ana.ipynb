{
 "cells": [
  {
   "cell_type": "code",
   "execution_count": 7,
   "id": "69c03b22-12ee-4c98-89c5-fa763b7a9b4f",
   "metadata": {},
   "outputs": [
    {
     "name": "stdout",
     "output_type": "stream",
     "text": [
      "0.7803986631477527\n"
     ]
    }
   ],
   "source": [
    "import math\n",
    "import matplotlib.pyplot as plt\n",
    "import numpy as np\n",
    "s = 0\n",
    "t = 1\n",
    "i = 0\n",
    "while math.fabs(t) > 1e-2:\n",
    "    s = s + t\n",
    "    i = i + 1\n",
    "    t = (-1)**i/(2*i+1)\n",
    "print(s)"
   ]
  },
  {
   "cell_type": "code",
   "execution_count": 2,
   "id": "6ee97358-b923-48b9-a15e-07d9350a95e5",
   "metadata": {},
   "outputs": [
    {
     "name": "stdout",
     "output_type": "stream",
     "text": [
      "0.7828982258896384\n"
     ]
    }
   ],
   "source": [
    "s = 0\n",
    "t = 1\n",
    "for i in range(100):\n",
    "    s = s + t\n",
    "    i = i + 1\n",
    "    t = (-1)**i/(2*i+1)\n",
    "print(s)"
   ]
  },
  {
   "cell_type": "code",
   "execution_count": 3,
   "id": "ec8fee17-ed60-49d4-bea8-6ebc8935e308",
   "metadata": {},
   "outputs": [
    {
     "data": {
      "text/plain": [
       "0.7828982258896384"
      ]
     },
     "execution_count": 3,
     "metadata": {},
     "output_type": "execute_result"
    }
   ],
   "source": [
    "sum([(-1)**i/(2*i+1) for i in range(100)])"
   ]
  },
  {
   "cell_type": "code",
   "execution_count": 4,
   "id": "70f4c892-36b8-4c5f-a963-a4e6fc7c5517",
   "metadata": {},
   "outputs": [],
   "source": [
    "def approx_pi_sur_4(p):\n",
    "    s = 0\n",
    "    t = 1\n",
    "    i = 0\n",
    "    while math.fabs(t) > p:\n",
    "        s = s + t\n",
    "        i = i + 1\n",
    "        t = (-1)**i/(2*i+1)\n",
    "    return s,i # i est le nombre d'itérations"
   ]
  },
  {
   "cell_type": "code",
   "execution_count": 5,
   "id": "6336513a-0d9f-473e-b4c7-aee7ccf0ee30",
   "metadata": {},
   "outputs": [],
   "source": [
    "def approx_pi_sur_4(p): # mieux avec compréhension\n",
    "    l = [(-1)**i/(2*i+1) for i in range(int((1-p)/(2*p))+1)]\n",
    "    return sum(l), len(l)"
   ]
  },
  {
   "cell_type": "code",
   "execution_count": 8,
   "id": "9b7efcdc-4593-4328-981a-1a030a74c491",
   "metadata": {},
   "outputs": [
    {
     "data": {
      "image/png": "[encoded data removed]",
      "text/plain": [
       "<Figure size 640x480 with 1 Axes>"
      ]
     },
     "metadata": {},
     "output_type": "display_data"
    }
   ],
   "source": [
    "precisions = [10**(-i) for i in range(1, 8)]\n",
    "l = [approx_pi_sur_4(p) for p in precisions]\n",
    "points = list(zip(precisions, [p[1] for p in l]))\n",
    "x = [p[0] for p in points]\n",
    "y = [p[1] for p in points]\n",
    "\n",
    "ax = plt.gca()\n",
    "ax.set_xscale('log')\n",
    "ax.set_yscale('log')\n",
    "plt.plot(x,y)\n",
    "plt.show()"
   ]
  },
  {
   "cell_type": "code",
   "execution_count": 9,
   "id": "77b54a4c-5371-47bb-bcd2-621d481098e1",
   "metadata": {},
   "outputs": [],
   "source": [
    "def factoriel(n):\n",
    "    return np.prod(range(1,n+1)) # itératif"
   ]
  },
  {
   "cell_type": "code",
   "execution_count": 10,
   "id": "826cbe69-016e-41b3-90b1-141ddb8a7172",
   "metadata": {},
   "outputs": [],
   "source": [
    "def fact(n):\n",
    "    return n*fact(n-1) if n != 1 else 1"
   ]
  },
  {
   "cell_type": "code",
   "execution_count": 11,
   "id": "ae9d92d7-f5be-4d66-9b6f-bee28d7d58ed",
   "metadata": {},
   "outputs": [
    {
     "name": "stdout",
     "output_type": "stream",
     "text": [
      "9.094508852984404 9.09450885298443\n"
     ]
    }
   ],
   "source": [
    "s1,s2 = 0,0\n",
    "for i in range(1,5001):\n",
    "    s1 = s1+1/i\n",
    "    s2 = s2 + 1/(5001-i)\n",
    "print(s1,s2)"
   ]
  },
  {
   "cell_type": "code",
   "execution_count": null,
   "id": "286231f2-c7b5-440d-bbac-8a5152269219",
   "metadata": {},
   "outputs": [],
   "source": []
  }
 ],
 "metadata": {
  "kernelspec": {
   "display_name": "Python 3 (ipykernel)",
   "language": "python",
   "name": "python3"
  },
  "language_info": {
   "codemirror_mode": {
    "name": "ipython",
    "version": 3
   },
   "file_extension": ".py",
   "mimetype": "text/x-python",
   "name": "python",
   "nbconvert_exporter": "python",
   "pygments_lexer": "ipython3",
   "version": "3.11.5"
  },
  "widgets": {
   "application/vnd.jupyter.widget-state+json": {
    "state": {},
    "version_major": 2,
    "version_minor": 0
   }
  }
 },
 "nbformat": 4,
 "nbformat_minor": 5
}
