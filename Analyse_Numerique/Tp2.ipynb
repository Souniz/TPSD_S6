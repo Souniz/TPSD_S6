{
 "cells": [
  {
   "cell_type": "code",
   "execution_count": 1,
   "id": "1bb30b46-e32d-44d3-bc74-63d43667c613",
   "metadata": {},
   "outputs": [],
   "source": [
    "import numpy as np\n",
    "import matplotlib.pyplot as plt\n",
    "import pandas as plt\n",
    "import scipy.optimize as sc"
   ]
  },
  {
   "cell_type": "markdown",
   "id": "dde902d3-8d41-40f3-88cf-deb088ac86f2",
   "metadata": {},
   "source": [
    "# Methode Dichotomie"
   ]
  },
  {
   "cell_type": "code",
   "execution_count": 23,
   "id": "d61392f8-f2ff-49f9-9993-ae6f79bd86e2",
   "metadata": {},
   "outputs": [],
   "source": [
    "def calcul_dichotomie(a,b,funct,p):\n",
    "    a,b=min(a,b),max(a,b)\n",
    "    x,y=a,b\n",
    "    i=0\n",
    "    while np.abs(a-b)>p :\n",
    "        i=i+1\n",
    "        m=(a+b)/2\n",
    "        (a,b)=(a,m) if funct(a)*funct(m)<0 else (b,m)\n",
    "    return [x,y],m,i"
   ]
  },
  {
   "cell_type": "code",
   "execution_count": 29,
   "id": "36d47ddc-c8c8-4820-9ab8-01174e9a2b14",
   "metadata": {},
   "outputs": [
    {
     "data": {
      "text/plain": [
       "([0, 1], 0.9130859375, 10)"
      ]
     },
     "execution_count": 29,
     "metadata": {},
     "output_type": "execute_result"
    }
   ],
   "source": [
    "calcul_dichotomie(0,1,lambda x:np.exp(-x/10)-x,10**-3)"
   ]
  },
  {
   "cell_type": "code",
   "execution_count": 30,
   "id": "b650e065-30e6-4289-adf7-f09292545eb5",
   "metadata": {},
   "outputs": [
    {
     "data": {
      "text/plain": [
       "([0, 1], 0.9127645492553711, 20)"
      ]
     },
     "execution_count": 30,
     "metadata": {},
     "output_type": "execute_result"
    }
   ],
   "source": [
    "calcul_dichotomie(0,1,lambda x:np.exp(-x/10)-x,10**-6)"
   ]
  },
  {
   "cell_type": "markdown",
   "id": "542dba18-8853-45a3-a5de-cc28d314269a",
   "metadata": {},
   "source": [
    "# Pour la dichotomie plus la precision est grande plus le nombre d'iteration est grande"
   ]
  },
  {
   "cell_type": "code",
   "execution_count": 25,
   "id": "f1b25cec-458a-4302-ba35-fd7b97456cfc",
   "metadata": {},
   "outputs": [
    {
     "data": {
      "text/plain": [
       "([0, 1], 0.9130859375, 10)"
      ]
     },
     "execution_count": 25,
     "metadata": {},
     "output_type": "execute_result"
    }
   ],
   "source": [
    "calcul_dichotomie(0,1,lambda x:np.exp(-x/10)-x,10**-3)"
   ]
  },
  {
   "cell_type": "code",
   "execution_count": 28,
   "id": "5e890228-777e-43fb-99c6-78e340211774",
   "metadata": {},
   "outputs": [
    {
     "data": {
      "text/plain": [
       "([0, 10], 0.9124755859375, 14)"
      ]
     },
     "execution_count": 28,
     "metadata": {},
     "output_type": "execute_result"
    }
   ],
   "source": [
    "calcul_dichotomie(0,10,lambda x:np.exp(-x/10)-x,10**-3)"
   ]
  },
  {
   "cell_type": "markdown",
   "id": "5e8580ec-1bfc-4dc4-9833-cac1f3586024",
   "metadata": {},
   "source": [
    "# Pour la dichotomie plus la taille de l'intervalle est grande plus le nombre d'iteration est grande"
   ]
  },
  {
   "cell_type": "markdown",
   "id": "e4f421e6-19b4-4897-bf07-502e0d0142c5",
   "metadata": {},
   "source": [
    "# Methode Fausse position"
   ]
  },
  {
   "cell_type": "code",
   "execution_count": 3,
   "id": "b465500c-ffad-4308-860e-cc2a102cf648",
   "metadata": {},
   "outputs": [],
   "source": [
    "def calcul_lagrange(a,b,funct,p): \n",
    "    i=0\n",
    "    while np.abs(a-b)>p :\n",
    "        i=i+1\n",
    "        x=a-(a-b)/(funct(a)-funct(b))*funct(a)\n",
    "        (a,b)=(a,x) if funct(a)*funct(x)<0 else (b,x)\n",
    "    return x,i"
   ]
  },
  {
   "cell_type": "markdown",
   "id": "1ab679d8-b2f8-4ea0-a1cb-0a609c93e11e",
   "metadata": {},
   "source": [
    "# Methode de la secante"
   ]
  },
  {
   "cell_type": "code",
   "execution_count": 4,
   "id": "95db4112-1cb5-4f65-8afa-b94622e04272",
   "metadata": {},
   "outputs": [],
   "source": [
    "def method_secante(a,b,funct,p): \n",
    "    a,b = min(a, b), max(a,b)\n",
    "    i=1\n",
    "    while np.abs(a-b)>p:\n",
    "        xo=b\n",
    "        b=b-(b-a)/(funct(b)-funct(a))*funct(b)\n",
    "        a=xo\n",
    "        i=i+1\n",
    "    return b,i"
   ]
  },
  {
   "cell_type": "markdown",
   "id": "d7df5a22-6b66-4e31-9d65-fff3bc51a424",
   "metadata": {},
   "source": [
    "# Methode de Newtone"
   ]
  },
  {
   "cell_type": "code",
   "execution_count": 5,
   "id": "1257beb2-98d1-4baf-a4d6-a8de1b940311",
   "metadata": {},
   "outputs": [],
   "source": [
    "def methode_newtone(a,b,funct,p,derive=None):\n",
    "    x=(a+b)/2\n",
    "    i=1\n",
    "    if derive==None:\n",
    "        derive=lambda s:(funct(s+10**-3)-funct(s-10**-3))/(2*1e-3)\n",
    "    while np.abs(x-b)>p:\n",
    "        b=x\n",
    "        x=x-funct(x)/derive(x)\n",
    "        i=i+1\n",
    "    return x,i"
   ]
  },
  {
   "cell_type": "code",
   "execution_count": 6,
   "id": "c5589322-7e44-4882-a2c9-427207e7b112",
   "metadata": {},
   "outputs": [
    {
     "data": {
      "text/plain": [
       "(0.9130859375, 10)"
      ]
     },
     "execution_count": 6,
     "metadata": {},
     "output_type": "execute_result"
    }
   ],
   "source": [
    "calcul_dichotomie(0,1,lambda x:np.exp(-x/10)-x,10**-3)"
   ]
  },
  {
   "cell_type": "code",
   "execution_count": 7,
   "id": "7d341e4a-68db-45ed-be6a-4d50029eff95",
   "metadata": {},
   "outputs": [
    {
     "data": {
      "text/plain": [
       "0.9130859375"
      ]
     },
     "execution_count": 7,
     "metadata": {},
     "output_type": "execute_result"
    }
   ],
   "source": [
    "sc.bisect(lambda x:np.exp(-x/10)-x,0,1,xtol=10**-3)"
   ]
  },
  {
   "cell_type": "code",
   "execution_count": 8,
   "id": "3ce92276-7569-4593-8df7-ca99e80ddce6",
   "metadata": {},
   "outputs": [
    {
     "data": {
      "text/plain": [
       "4.3173828125"
      ]
     },
     "execution_count": 8,
     "metadata": {},
     "output_type": "execute_result"
    }
   ],
   "source": [
    "sc.bisect(lambda x:x**3/3-2*x**2+3*x-5/2,4,5,xtol=10**-3)"
   ]
  },
  {
   "cell_type": "code",
   "execution_count": 9,
   "id": "1c3d2ed5-6f3b-4954-a271-4cdff1b2c479",
   "metadata": {},
   "outputs": [
    {
     "data": {
      "text/plain": [
       "(-0.4996337890625, 13)"
      ]
     },
     "execution_count": 9,
     "metadata": {},
     "output_type": "execute_result"
    }
   ],
   "source": [
    "calcul_dichotomie(-4,1,lambda x:2*x+1,10**-3)"
   ]
  },
  {
   "cell_type": "code",
   "execution_count": 10,
   "id": "0832d015-31d0-4d74-8cad-5d289dd5fc1b",
   "metadata": {},
   "outputs": [
    {
     "data": {
      "text/plain": [
       "-0.4996337890625"
      ]
     },
     "execution_count": 10,
     "metadata": {},
     "output_type": "execute_result"
    }
   ],
   "source": [
    "sc.bisect(lambda x:2*x+1,-4,1,xtol=10**-3)"
   ]
  },
  {
   "cell_type": "code",
   "execution_count": 11,
   "id": "e2abf623-6342-493a-88ee-6214b13b64c1",
   "metadata": {},
   "outputs": [
    {
     "data": {
      "text/plain": [
       "(0.9127652716086226, 7)"
      ]
     },
     "execution_count": 11,
     "metadata": {},
     "output_type": "execute_result"
    }
   ],
   "source": [
    "calcul_lagrange(0,1,lambda x:np.exp(-x/10)-x,10**-5)"
   ]
  },
  {
   "cell_type": "code",
   "execution_count": 12,
   "id": "2deb1d33-8df1-4595-94d1-5b3b781d5952",
   "metadata": {},
   "outputs": [
    {
     "data": {
      "text/plain": [
       "(0.9127652716087997, 4)"
      ]
     },
     "execution_count": 12,
     "metadata": {},
     "output_type": "execute_result"
    }
   ],
   "source": [
    "method_secante(0,1,lambda x:np.exp(-x/10)-x,10**-5)"
   ]
  },
  {
   "cell_type": "code",
   "execution_count": 13,
   "id": "ae4a56a9-18fd-4c1a-98f8-fae794232c91",
   "metadata": {},
   "outputs": [
    {
     "data": {
      "text/plain": [
       "(0.9127652716086226, 4)"
      ]
     },
     "execution_count": 13,
     "metadata": {},
     "output_type": "execute_result"
    }
   ],
   "source": [
    "methode_newtone(0,1,lambda x:np.exp(-x/10)-x,10**-5)"
   ]
  },
  {
   "cell_type": "code",
   "execution_count": 14,
   "id": "f2ca6a42-1b01-493e-bba3-d82f804474b4",
   "metadata": {},
   "outputs": [
    {
     "data": {
      "text/plain": [
       "(4.317931295695861, 4)"
      ]
     },
     "execution_count": 14,
     "metadata": {},
     "output_type": "execute_result"
    }
   ],
   "source": [
    "methode_newtone(4,5,lambda x:x**3/3-2*x**2+3*x-5/2,10**-3)"
   ]
  },
  {
   "cell_type": "code",
   "execution_count": 15,
   "id": "da940b6c-b10b-42c9-9e24-5f9ccd0ac5de",
   "metadata": {},
   "outputs": [
    {
     "data": {
      "text/plain": [
       "4.317931287501235"
      ]
     },
     "execution_count": 15,
     "metadata": {},
     "output_type": "execute_result"
    }
   ],
   "source": [
    "sc.newton(lambda x:x**3/3-2*x**2+3*x-5/2,4)"
   ]
  },
  {
   "cell_type": "code",
   "execution_count": 16,
   "id": "070443bf-34bb-40fb-a88d-b3214242242e",
   "metadata": {},
   "outputs": [
    {
     "ename": "ValueError",
     "evalue": "Unable to select a solver as neither bracket nor starting point provided.",
     "output_type": "error",
     "traceback": [
      "\u001b[0;31m---------------------------------------------------------------------------\u001b[0m",
      "\u001b[0;31mValueError\u001b[0m                                Traceback (most recent call last)",
      "\u001b[0;32m/tmp/ipykernel_891476/2516068267.py\u001b[0m in \u001b[0;36m<cell line: 1>\u001b[0;34m()\u001b[0m\n\u001b[0;32m----> 1\u001b[0;31m \u001b[0msc\u001b[0m\u001b[0;34m.\u001b[0m\u001b[0mroot_scalar\u001b[0m\u001b[0;34m(\u001b[0m\u001b[0;32mlambda\u001b[0m \u001b[0mx\u001b[0m\u001b[0;34m:\u001b[0m\u001b[0mx\u001b[0m\u001b[0;34m**\u001b[0m\u001b[0;36m3\u001b[0m\u001b[0;34m/\u001b[0m\u001b[0;36m3\u001b[0m\u001b[0;34m-\u001b[0m\u001b[0;36m2\u001b[0m\u001b[0;34m*\u001b[0m\u001b[0mx\u001b[0m\u001b[0;34m**\u001b[0m\u001b[0;36m2\u001b[0m\u001b[0;34m+\u001b[0m\u001b[0;36m3\u001b[0m\u001b[0;34m*\u001b[0m\u001b[0mx\u001b[0m\u001b[0;34m-\u001b[0m\u001b[0;36m5\u001b[0m\u001b[0;34m/\u001b[0m\u001b[0;36m2\u001b[0m\u001b[0;34m,\u001b[0m\u001b[0;36m4\u001b[0m\u001b[0;34m)\u001b[0m\u001b[0;34m\u001b[0m\u001b[0;34m\u001b[0m\u001b[0m\n\u001b[0m",
      "\u001b[0;32m/usr/lib/python3/dist-packages/scipy/optimize/_root_scalar.py\u001b[0m in \u001b[0;36mroot_scalar\u001b[0;34m(f, args, method, bracket, fprime, fprime2, x0, x1, xtol, rtol, maxiter, options)\u001b[0m\n\u001b[1;32m    231\u001b[0m                 \u001b[0mmethod\u001b[0m \u001b[0;34m=\u001b[0m \u001b[0;34m'secant'\u001b[0m\u001b[0;34m\u001b[0m\u001b[0;34m\u001b[0m\u001b[0m\n\u001b[1;32m    232\u001b[0m     \u001b[0;32mif\u001b[0m \u001b[0;32mnot\u001b[0m \u001b[0mmethod\u001b[0m\u001b[0;34m:\u001b[0m\u001b[0;34m\u001b[0m\u001b[0;34m\u001b[0m\u001b[0m\n\u001b[0;32m--> 233\u001b[0;31m         raise ValueError('Unable to select a solver as neither bracket '\n\u001b[0m\u001b[1;32m    234\u001b[0m                          'nor starting point provided.')\n\u001b[1;32m    235\u001b[0m \u001b[0;34m\u001b[0m\u001b[0m\n",
      "\u001b[0;31mValueError\u001b[0m: Unable to select a solver as neither bracket nor starting point provided."
     ]
    }
   ],
   "source": [
    "sc.root_scalarar(lambda x:x**3/3-2*x**2+3*x-5/2,4)"
   ]
  }
 ],
 "metadata": {
  "kernelspec": {
   "display_name": "Python 3 (ipykernel)",
   "language": "python",
   "name": "python3"
  },
  "language_info": {
   "codemirror_mode": {
    "name": "ipython",
    "version": 3
   },
   "file_extension": ".py",
   "mimetype": "text/x-python",
   "name": "python",
   "nbconvert_exporter": "python",
   "pygments_lexer": "ipython3",
   "version": "3.10.12"
  }
 },
 "nbformat": 4,
 "nbformat_minor": 5
}
