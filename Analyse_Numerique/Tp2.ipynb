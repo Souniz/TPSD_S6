{
 "cells": [
  {
   "cell_type": "code",
   "execution_count": 62,
   "id": "1bb30b46-e32d-44d3-bc74-63d43667c613",
   "metadata": {},
   "outputs": [],
   "source": [
    "import numpy as np\n",
    "import matplotlib.pyplot as plt\n",
    "import pandas as pd\n",
    "import scipy.optimize as sc\n",
    "import seaborn as sns"
   ]
  },
  {
   "cell_type": "markdown",
   "id": "dde902d3-8d41-40f3-88cf-deb088ac86f2",
   "metadata": {},
   "source": [
    "# Methode Dichotomie"
   ]
  },
  {
   "cell_type": "code",
   "execution_count": 2,
   "id": "d61392f8-f2ff-49f9-9993-ae6f79bd86e2",
   "metadata": {},
   "outputs": [],
   "source": [
    "def calcul_dichotomie(a,b,funct,p):\n",
    "    a,b=min(a,b),max(a,b)\n",
    "    x,y=a,b\n",
    "    i=0\n",
    "    while np.abs(a-b)>p :\n",
    "        i=i+1\n",
    "        m=(a+b)/2\n",
    "        (a,b)=(a,m) if funct(a)*funct(m)<0 else (b,m)\n",
    "    return [x,y],m,i"
   ]
  },
  {
   "cell_type": "code",
   "execution_count": 3,
   "id": "36d47ddc-c8c8-4820-9ab8-01174e9a2b14",
   "metadata": {},
   "outputs": [
    {
     "data": {
      "text/plain": [
       "([0, 1], 0.9130859375, 10)"
      ]
     },
     "execution_count": 3,
     "metadata": {},
     "output_type": "execute_result"
    }
   ],
   "source": [
    "calcul_dichotomie(0,1,lambda x:np.exp(-x/10)-x,10**-3)"
   ]
  },
  {
   "cell_type": "code",
   "execution_count": 4,
   "id": "b650e065-30e6-4289-adf7-f09292545eb5",
   "metadata": {},
   "outputs": [
    {
     "data": {
      "text/plain": [
       "([0, 1], 0.9127645492553711, 20)"
      ]
     },
     "execution_count": 4,
     "metadata": {},
     "output_type": "execute_result"
    }
   ],
   "source": [
    "calcul_dichotomie(0,1,lambda x:np.exp(-x/10)-x,10**-6)"
   ]
  },
  {
   "cell_type": "markdown",
   "id": "542dba18-8853-45a3-a5de-cc28d314269a",
   "metadata": {},
   "source": [
    "# Pour la dichotomie plus la precision est grande plus le nombre d'iteration est grande"
   ]
  },
  {
   "cell_type": "code",
   "execution_count": 48,
   "id": "f1b25cec-458a-4302-ba35-fd7b97456cfc",
   "metadata": {},
   "outputs": [
    {
     "data": {
      "text/plain": [
       "([0, 1], 0.9130859375, 10)"
      ]
     },
     "execution_count": 5,
     "metadata": {},
     "output_type": "execute_result"
    }
   ],
   "source": [
    "calcul_dichotomie(0,1,lambda x:np.exp(-x/10)-x,10**-3)"
   ]
  },
  {
   "cell_type": "code",
   "execution_count": 6,
   "id": "5e890228-777e-43fb-99c6-78e340211774",
   "metadata": {},
   "outputs": [
    {
     "data": {
      "text/plain": [
       "([0, 10], 0.9124755859375, 14)"
      ]
     },
     "execution_count": 6,
     "metadata": {},
     "output_type": "execute_result"
    }
   ],
   "source": [
    "calcul_dichotomie(0,10,lambda x:np.exp(-x/10)-x,10**-3)"
   ]
  },
  {
   "cell_type": "markdown",
   "id": "5e8580ec-1bfc-4dc4-9833-cac1f3586024",
   "metadata": {},
   "source": [
    "# Pour la dichotomie plus la taille de l'intervalle est grande plus le nombre d'iteration est grande"
   ]
  },
  {
   "cell_type": "markdown",
   "id": "e4f421e6-19b4-4897-bf07-502e0d0142c5",
   "metadata": {},
   "source": [
    "# Methode Fausse position"
   ]
  },
  {
   "cell_type": "code",
   "execution_count": 7,
   "id": "b465500c-ffad-4308-860e-cc2a102cf648",
   "metadata": {},
   "outputs": [],
   "source": [
    "def calcul_lagrange(a,b,funct,p):\n",
    "    inter=[a,b]\n",
    "    i=0\n",
    "    while np.abs(a-b)>p :\n",
    "        i=i+1\n",
    "        x=a-(a-b)/(funct(a)-funct(b))*funct(a)\n",
    "        (a,b)=(a,x) if funct(a)*funct(x)<0 else (b,x)\n",
    "    return inter,x,i"
   ]
  },
  {
   "cell_type": "code",
   "execution_count": 47,
   "id": "35e65360-97e2-42db-85fe-d2991406ea9d",
   "metadata": {},
   "outputs": [
    {
     "data": {
      "text/plain": [
       "([0, 1], 0.9127652716086226, 7)"
      ]
     },
     "execution_count": 47,
     "metadata": {},
     "output_type": "execute_result"
    }
   ],
   "source": [
    "calcul_lagrange(0,1,lambda x:np.exp(-x/10)-x,1e-3)"
   ]
  },
  {
   "cell_type": "code",
   "execution_count": 10,
   "id": "f9fe0336-2513-4d92-8eec-ecc62ff950f4",
   "metadata": {},
   "outputs": [
    {
     "data": {
      "text/plain": [
       "([0, 0.5], 0.9127652716086226, 4)"
      ]
     },
     "execution_count": 10,
     "metadata": {},
     "output_type": "execute_result"
    }
   ],
   "source": [
    "calcul_lagrange(0,0.5,lambda x:np.exp(-x/10)-x,1e-6)"
   ]
  },
  {
   "cell_type": "markdown",
   "id": "19b17214-141d-4b43-bc0d-a71c87f2190d",
   "metadata": {},
   "source": [
    "# Pour lagrange quand je dimunie l'intervalle le nombre d'iteration dimunie "
   ]
  },
  {
   "cell_type": "markdown",
   "id": "1ab679d8-b2f8-4ea0-a1cb-0a609c93e11e",
   "metadata": {},
   "source": [
    "# Methode de la secante"
   ]
  },
  {
   "cell_type": "code",
   "execution_count": 27,
   "id": "95db4112-1cb5-4f65-8afa-b94622e04272",
   "metadata": {},
   "outputs": [],
   "source": [
    "def method_secante(a,b,funct,p): \n",
    "    a,b = min(a, b), max(a,b)\n",
    "    i=1\n",
    "    while np.abs(a-b)>p:\n",
    "        xo=b\n",
    "        b=b-(b-a)/(funct(b)-funct(a))*funct(b)\n",
    "        a=xo\n",
    "        i=i+1\n",
    "    return b,i"
   ]
  },
  {
   "cell_type": "code",
   "execution_count": 46,
   "id": "d01b5b07-1f9d-4437-a057-a71ca468acea",
   "metadata": {},
   "outputs": [
    {
     "data": {
      "text/plain": [
       "(0.9127651474614689, 3)"
      ]
     },
     "execution_count": 46,
     "metadata": {},
     "output_type": "execute_result"
    }
   ],
   "source": [
    "method_secante(0,1,lambda x:np.exp(-x/10)-x,1e-3)"
   ]
  },
  {
   "cell_type": "markdown",
   "id": "d7df5a22-6b66-4e31-9d65-fff3bc51a424",
   "metadata": {},
   "source": [
    "# Methode de Newtone"
   ]
  },
  {
   "cell_type": "code",
   "execution_count": 30,
   "id": "1257beb2-98d1-4baf-a4d6-a8de1b940311",
   "metadata": {},
   "outputs": [],
   "source": [
    "def methode_newtone(a,b,funct,p,derive=None):\n",
    "    x=(a+b)/2\n",
    "    i=1\n",
    "    if derive==None:\n",
    "        derive=lambda s:(funct(s+10**-3)-funct(s-10**-3))/(2*1e-3)\n",
    "    while np.abs(x-b)>p:\n",
    "        b=x\n",
    "        x=x-funct(x)/derive(x)\n",
    "        i=i+1\n",
    "    return x,i"
   ]
  },
  {
   "cell_type": "code",
   "execution_count": 45,
   "id": "c5589322-7e44-4882-a2c9-427207e7b112",
   "metadata": {},
   "outputs": [
    {
     "data": {
      "text/plain": [
       "(0.9127652716086226, 4)"
      ]
     },
     "execution_count": 45,
     "metadata": {},
     "output_type": "execute_result"
    }
   ],
   "source": [
    "methode_newtone(0,1,lambda x:np.exp(-x/10)-x,10**-3)"
   ]
  },
  {
   "cell_type": "code",
   "execution_count": 76,
   "id": "93c2c4f2-e1b4-4120-8a28-018a1c98e99c",
   "metadata": {},
   "outputs": [],
   "source": [
    "dic=calcul_dichotomie(0,1,lambda x:np.exp(-x/10)-x,10**-3)[2]\n",
    "lang=calcul_lagrange(0,1,lambda x:np.exp(-x/10)-x,10**-3)[2]\n",
    "secant=method_secante(0,1,lambda x:np.exp(-x/10)-x,10**-3)[1]\n",
    "newton=methode_newtone(0,1,lambda x:np.exp(-x/10)-x,10**-3)[1]\n",
    "donne=np.array([[dic,lang,secant,newton]])\n",
    "df=pd.DataFrame(data=donne,columns=['dichtomie','lagrange','secante','newton'])"
   ]
  },
  {
   "cell_type": "code",
   "execution_count": 77,
   "id": "d3529003-8cba-4e45-bf9e-3b32fc934650",
   "metadata": {},
   "outputs": [
    {
     "data": {
      "image/png": "[encoded data removed]",
      "text/plain": [
       "<Figure size 640x480 with 1 Axes>"
      ]
     },
     "metadata": {},
     "output_type": "display_data"
    }
   ],
   "source": [
    "plt.bar(df.columns,df.loc[0],color=['red','yellow','blue','green'])\n",
    "plt.title('exp(-x/10)-x')\n",
    "plt.xlabel('methodes')\n",
    "plt.ylabel(\"Nbre d'iteration\")\n",
    "plt.show()"
   ]
  },
  {
   "cell_type": "markdown",
   "id": "25f44e79-bbe5-42e6-bfb7-5e9e8e2fd400",
   "metadata": {},
   "source": [
    "# Newtone et secante sont plus rapide pour cette methode"
   ]
  },
  {
   "cell_type": "code",
   "execution_count": 92,
   "id": "3cc7ba5d-e40b-456e-94df-22c3d9fc3bf9",
   "metadata": {},
   "outputs": [
    {
     "data": {
      "image/png": "[encoded data removed]",
      "text/plain": [
       "<Figure size 640x480 with 1 Axes>"
      ]
     },
     "metadata": {},
     "output_type": "display_data"
    }
   ],
   "source": [
    "dic=calcul_dichotomie(4,5,lambda x:x**3/3-2*x**2+3*x-5/2,1e-3)[2]\n",
    "lang=calcul_lagrange(4,5,lambda x:x**3/3-2*x**2+3*x-5/2,1e-3)[2]\n",
    "secant=method_secante(4,5,lambda x:x**3/3-2*x**2+3*x-5/2,1e-3)[1]\n",
    "newton=methode_newtone(4,5,lambda x:x**3/3-2*x**2+3*x-5/2,1e-3)[1]\n",
    "donne=np.array([[dic,lang,secant,newton]])\n",
    "df=pd.DataFrame(data=donne,columns=['dichtomie','lagrange','secante','newton'])\n",
    "plt.bar(df.columns,df.loc[0],color=['red','yellow','blue','green'])\n",
    "plt.title('x:x**3/3-2*x**2+3*x-5/2')\n",
    "plt.xlabel('methodes')\n",
    "plt.ylabel(\"Nbre d'iteration\")\n",
    "plt.show()"
   ]
  },
  {
   "cell_type": "code",
   "execution_count": 106,
   "id": "fa5ea98a-3db4-4096-aefe-ab9e34f1cc8d",
   "metadata": {},
   "outputs": [],
   "source": [
    "def fonct(x):\n",
    "    return x**3/3-2*x**2+3*x-5/2"
   ]
  },
  {
   "cell_type": "code",
   "execution_count": 119,
   "id": "e9466473-1ecc-42c1-8582-bc46eda5ba15",
   "metadata": {},
   "outputs": [
    {
     "data": {
      "text/plain": [
       "[<matplotlib.lines.Line2D at 0x20093d185b0>]"
      ]
     },
     "execution_count": 119,
     "metadata": {},
     "output_type": "execute_result"
    },
    {
     "data": {
      "image/png": "[encoded data removed]",
      "text/plain": [
       "<Figure size 640x480 with 1 Axes>"
      ]
     },
     "metadata": {},
     "output_type": "display_data"
    }
   ],
   "source": [
    "x=np.array(np.arange(4,5,0.1))\n",
    "zer=[0 for i in x]\n",
    "y=[fonct(x) for x in inter]\n",
    "plt.title('x**3/3-2*x**2+3*x-5/2')\n",
    "plt.plot(x,y)\n",
    "plt.plot(x,zer)"
   ]
  },
  {
   "cell_type": "code",
   "execution_count": 82,
   "id": "7d341e4a-68db-45ed-be6a-4d50029eff95",
   "metadata": {},
   "outputs": [
    {
     "data": {
      "text/plain": [
       "0.9130859375"
      ]
     },
     "execution_count": 82,
     "metadata": {},
     "output_type": "execute_result"
    }
   ],
   "source": [
    "calcul_dichotomie(0,1,lambda x:np.exp(-x/10)-x,1e-3)[1]"
   ]
  },
  {
   "cell_type": "code",
   "execution_count": null,
   "id": "16c46d36-85df-4411-9caf-dbd5543fc528",
   "metadata": {},
   "outputs": [],
   "source": [
    "sc.bisect(lambda x:np.exp(-x/10)-x,0,1,xtol=10**-3)"
   ]
  },
  {
   "cell_type": "markdown",
   "id": "3775aaee-7e42-4724-8c9f-ef2b6d77cec9",
   "metadata": {},
   "source": [
    "# Ma methode de dichotomie et celle du module scipy.optimize ont le meme resultat"
   ]
  },
  {
   "cell_type": "code",
   "execution_count": 84,
   "id": "701494b3-330f-437d-9b80-bd3db7ed9dc5",
   "metadata": {},
   "outputs": [
    {
     "data": {
      "text/plain": [
       "4.3173828125"
      ]
     },
     "execution_count": 84,
     "metadata": {},
     "output_type": "execute_result"
    }
   ],
   "source": [
    "sc.bisect(lambda x:x**3/3-2*x**2+3*x-5/2,4,5,xtol=10**-3)"
   ]
  },
  {
   "cell_type": "code",
   "execution_count": 87,
   "id": "1c3d2ed5-6f3b-4954-a271-4cdff1b2c479",
   "metadata": {},
   "outputs": [
    {
     "data": {
      "text/plain": [
       "([4, 5], 4.3173828125, 10)"
      ]
     },
     "execution_count": 87,
     "metadata": {},
     "output_type": "execute_result"
    }
   ],
   "source": [
    "calcul_dichotomie(4,5,lambda x:x**3/3-2*x**2+3*x-5/2,10**-5)"
   ]
  },
  {
   "cell_type": "code",
   "execution_count": 88,
   "id": "e2abf623-6342-493a-88ee-6214b13b64c1",
   "metadata": {},
   "outputs": [
    {
     "data": {
      "text/plain": [
       "([0, 1], 4.317931287501235, 28)"
      ]
     },
     "execution_count": 88,
     "metadata": {},
     "output_type": "execute_result"
    }
   ],
   "source": [
    "calcul_lagrange(0,1,lambda x:x**3/3-2*x**2+3*x-5/2,10**-5)"
   ]
  },
  {
   "cell_type": "code",
   "execution_count": 90,
   "id": "ae4a56a9-18fd-4c1a-98f8-fae794232c91",
   "metadata": {},
   "outputs": [
    {
     "data": {
      "text/plain": [
       "(4.317931287501372, 11)"
      ]
     },
     "execution_count": 90,
     "metadata": {},
     "output_type": "execute_result"
    }
   ],
   "source": [
    "methode_newtone(0,1,lambda x:x**3/3-2*x**2+3*x-5/2,10**-5)"
   ]
  },
  {
   "cell_type": "code",
   "execution_count": 91,
   "id": "da940b6c-b10b-42c9-9e24-5f9ccd0ac5de",
   "metadata": {},
   "outputs": [
    {
     "data": {
      "text/plain": [
       "4.317931287501235"
      ]
     },
     "execution_count": 91,
     "metadata": {},
     "output_type": "execute_result"
    }
   ],
   "source": [
    "sc.newton(lambda x:x**3/3-2*x**2+3*x-5/2,4)"
   ]
  },
  {
   "cell_type": "markdown",
   "id": "e0f5b879-d13c-4375-9487-38e720b1e6b0",
   "metadata": {},
   "source": [
    "# Meme resultat avec newton"
   ]
  }
 ],
 "metadata": {
  "kernelspec": {
   "display_name": "Python 3 (ipykernel)",
   "language": "python",
   "name": "python3"
  },
  "language_info": {
   "codemirror_mode": {
    "name": "ipython",
    "version": 3
   },
   "file_extension": ".py",
   "mimetype": "text/x-python",
   "name": "python",
   "nbconvert_exporter": "python",
   "pygments_lexer": "ipython3",
   "version": "3.9.13"
  }
 },
 "nbformat": 4,
 "nbformat_minor": 5
}
